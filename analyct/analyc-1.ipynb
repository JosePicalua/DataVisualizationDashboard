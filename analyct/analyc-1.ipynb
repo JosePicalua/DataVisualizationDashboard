{
 "cells": [
  {
   "cell_type": "code",
   "execution_count": 1,
   "id": "630b5c45",
   "metadata": {},
   "outputs": [],
   "source": [
    "import pandas as pd"
   ]
  },
  {
   "cell_type": "code",
   "execution_count": 2,
   "id": "264154af",
   "metadata": {},
   "outputs": [],
   "source": [
    "\n",
    "#DATA SET DONDE SE ENCUENTRA, LOS ARTICULOS, CODIGO, CATEGORIA Y NOMBRE DE CATEGORIA\n",
    "df1 = pd.read_csv(r\"C:\\Users\\josep\\Documents\\Proyect\\dasboard-buy\\dataset\\part-data\\annex1.csv\")\n",
    "#DATA SET DONDE SE ENCUENTRA, DESCRIPCION DE LAS VENTAS-- CODIGOS,Cantidad vendida, precio de venta unitario, venta o devolución, descuento\n",
    "df2 = pd.read_csv(r\"C:\\Users\\josep\\Documents\\Proyect\\dasboard-buy\\dataset\\part-data\\annex2.csv\")\n",
    "#DATA SET DONDE SE ENCUNETRA LOS CODIGOS DE ARTICULOS, VALOR DE CADA UNIDAD A VENTA AL POR MAYOR\n",
    "df3 = pd.read_csv(r\"C:\\Users\\josep\\Documents\\Proyect\\dasboard-buy\\dataset\\part-data\\annex3.csv\")\n",
    "#DATA SET DONDE SE ENCUENTRA LOS PRODUCTOS CON TASA DE PERDIDAS\n",
    "df4 = pd.read_csv(r\"C:\\Users\\josep\\Documents\\Proyect\\dasboard-buy\\dataset\\part-data\\annex4.csv\")\n"
   ]
  },
  {
   "cell_type": "code",
   "execution_count": 3,
   "id": "9eb96898",
   "metadata": {},
   "outputs": [
    {
     "name": "stdout",
     "output_type": "stream",
     "text": [
      "<class 'pandas.core.frame.DataFrame'>\n",
      "RangeIndex: 878503 entries, 0 to 878502\n",
      "Data columns (total 7 columns):\n",
      " #   Column                       Non-Null Count   Dtype  \n",
      "---  ------                       --------------   -----  \n",
      " 0   Date                         878503 non-null  object \n",
      " 1   Time                         878503 non-null  object \n",
      " 2   Item Code                    878503 non-null  int64  \n",
      " 3   Quantity Sold (kilo)         878503 non-null  float64\n",
      " 4   Unit Selling Price (RMB/kg)  878503 non-null  float64\n",
      " 5   Sale or Return               878503 non-null  object \n",
      " 6   Discount (Yes/No)            878503 non-null  object \n",
      "dtypes: float64(2), int64(1), object(4)\n",
      "memory usage: 46.9+ MB\n",
      "None\n"
     ]
    },
    {
     "data": {
      "text/html": [
       "<div>\n",
       "<style scoped>\n",
       "    .dataframe tbody tr th:only-of-type {\n",
       "        vertical-align: middle;\n",
       "    }\n",
       "\n",
       "    .dataframe tbody tr th {\n",
       "        vertical-align: top;\n",
       "    }\n",
       "\n",
       "    .dataframe thead th {\n",
       "        text-align: right;\n",
       "    }\n",
       "</style>\n",
       "<table border=\"1\" class=\"dataframe\">\n",
       "  <thead>\n",
       "    <tr style=\"text-align: right;\">\n",
       "      <th></th>\n",
       "      <th>Date</th>\n",
       "      <th>Time</th>\n",
       "      <th>Item Code</th>\n",
       "      <th>Quantity Sold (kilo)</th>\n",
       "      <th>Unit Selling Price (RMB/kg)</th>\n",
       "      <th>Sale or Return</th>\n",
       "      <th>Discount (Yes/No)</th>\n",
       "    </tr>\n",
       "  </thead>\n",
       "  <tbody>\n",
       "    <tr>\n",
       "      <th>0</th>\n",
       "      <td>2020-07-01</td>\n",
       "      <td>09:15:07.924</td>\n",
       "      <td>102900005117056</td>\n",
       "      <td>0.396</td>\n",
       "      <td>7.6</td>\n",
       "      <td>sale</td>\n",
       "      <td>No</td>\n",
       "    </tr>\n",
       "    <tr>\n",
       "      <th>1</th>\n",
       "      <td>2020-07-01</td>\n",
       "      <td>09:17:27.295</td>\n",
       "      <td>102900005115960</td>\n",
       "      <td>0.849</td>\n",
       "      <td>3.2</td>\n",
       "      <td>sale</td>\n",
       "      <td>No</td>\n",
       "    </tr>\n",
       "    <tr>\n",
       "      <th>2</th>\n",
       "      <td>2020-07-01</td>\n",
       "      <td>09:17:33.905</td>\n",
       "      <td>102900005117056</td>\n",
       "      <td>0.409</td>\n",
       "      <td>7.6</td>\n",
       "      <td>sale</td>\n",
       "      <td>No</td>\n",
       "    </tr>\n",
       "    <tr>\n",
       "      <th>3</th>\n",
       "      <td>2020-07-01</td>\n",
       "      <td>09:19:45.450</td>\n",
       "      <td>102900005115823</td>\n",
       "      <td>0.421</td>\n",
       "      <td>10.0</td>\n",
       "      <td>sale</td>\n",
       "      <td>No</td>\n",
       "    </tr>\n",
       "    <tr>\n",
       "      <th>4</th>\n",
       "      <td>2020-07-01</td>\n",
       "      <td>09:20:23.686</td>\n",
       "      <td>102900005115908</td>\n",
       "      <td>0.539</td>\n",
       "      <td>8.0</td>\n",
       "      <td>sale</td>\n",
       "      <td>No</td>\n",
       "    </tr>\n",
       "    <tr>\n",
       "      <th>...</th>\n",
       "      <td>...</td>\n",
       "      <td>...</td>\n",
       "      <td>...</td>\n",
       "      <td>...</td>\n",
       "      <td>...</td>\n",
       "      <td>...</td>\n",
       "      <td>...</td>\n",
       "    </tr>\n",
       "    <tr>\n",
       "      <th>878498</th>\n",
       "      <td>2023-06-30</td>\n",
       "      <td>21:35:13.264</td>\n",
       "      <td>102900005115250</td>\n",
       "      <td>0.284</td>\n",
       "      <td>24.0</td>\n",
       "      <td>sale</td>\n",
       "      <td>No</td>\n",
       "    </tr>\n",
       "    <tr>\n",
       "      <th>878499</th>\n",
       "      <td>2023-06-30</td>\n",
       "      <td>21:35:14.358</td>\n",
       "      <td>102900011022764</td>\n",
       "      <td>0.669</td>\n",
       "      <td>12.0</td>\n",
       "      <td>sale</td>\n",
       "      <td>No</td>\n",
       "    </tr>\n",
       "    <tr>\n",
       "      <th>878500</th>\n",
       "      <td>2023-06-30</td>\n",
       "      <td>21:35:20.264</td>\n",
       "      <td>102900005115250</td>\n",
       "      <td>0.125</td>\n",
       "      <td>24.0</td>\n",
       "      <td>sale</td>\n",
       "      <td>No</td>\n",
       "    </tr>\n",
       "    <tr>\n",
       "      <th>878501</th>\n",
       "      <td>2023-06-30</td>\n",
       "      <td>21:35:21.509</td>\n",
       "      <td>102900011016701</td>\n",
       "      <td>0.252</td>\n",
       "      <td>5.2</td>\n",
       "      <td>sale</td>\n",
       "      <td>No</td>\n",
       "    </tr>\n",
       "    <tr>\n",
       "      <th>878502</th>\n",
       "      <td>2023-06-30</td>\n",
       "      <td>21:40:48.248</td>\n",
       "      <td>102900011022764</td>\n",
       "      <td>0.803</td>\n",
       "      <td>12.0</td>\n",
       "      <td>sale</td>\n",
       "      <td>No</td>\n",
       "    </tr>\n",
       "  </tbody>\n",
       "</table>\n",
       "<p>878503 rows × 7 columns</p>\n",
       "</div>"
      ],
      "text/plain": [
       "              Date          Time        Item Code  Quantity Sold (kilo)  \\\n",
       "0       2020-07-01  09:15:07.924  102900005117056                 0.396   \n",
       "1       2020-07-01  09:17:27.295  102900005115960                 0.849   \n",
       "2       2020-07-01  09:17:33.905  102900005117056                 0.409   \n",
       "3       2020-07-01  09:19:45.450  102900005115823                 0.421   \n",
       "4       2020-07-01  09:20:23.686  102900005115908                 0.539   \n",
       "...            ...           ...              ...                   ...   \n",
       "878498  2023-06-30  21:35:13.264  102900005115250                 0.284   \n",
       "878499  2023-06-30  21:35:14.358  102900011022764                 0.669   \n",
       "878500  2023-06-30  21:35:20.264  102900005115250                 0.125   \n",
       "878501  2023-06-30  21:35:21.509  102900011016701                 0.252   \n",
       "878502  2023-06-30  21:40:48.248  102900011022764                 0.803   \n",
       "\n",
       "        Unit Selling Price (RMB/kg) Sale or Return Discount (Yes/No)  \n",
       "0                               7.6           sale                No  \n",
       "1                               3.2           sale                No  \n",
       "2                               7.6           sale                No  \n",
       "3                              10.0           sale                No  \n",
       "4                               8.0           sale                No  \n",
       "...                             ...            ...               ...  \n",
       "878498                         24.0           sale                No  \n",
       "878499                         12.0           sale                No  \n",
       "878500                         24.0           sale                No  \n",
       "878501                          5.2           sale                No  \n",
       "878502                         12.0           sale                No  \n",
       "\n",
       "[878503 rows x 7 columns]"
      ]
     },
     "execution_count": 3,
     "metadata": {},
     "output_type": "execute_result"
    }
   ],
   "source": [
    "print(df2.info())\n",
    "df2"
   ]
  },
  {
   "cell_type": "markdown",
   "id": "e94b354c",
   "metadata": {},
   "source": [
    "## PRIMERO PASO - ITERACION EN LA TABLA DE VENTA, PARA VERIFICAR EL PASO UNO DEL ARCHIVO README"
   ]
  },
  {
   "cell_type": "code",
   "execution_count": 4,
   "id": "940ff808",
   "metadata": {},
   "outputs": [
    {
     "data": {
      "text/plain": [
       "array(['No', 'Yes'], dtype=object)"
      ]
     },
     "execution_count": 4,
     "metadata": {},
     "output_type": "execute_result"
    }
   ],
   "source": [
    "df2['Discount (Yes/No)'].unique()"
   ]
  },
  {
   "cell_type": "markdown",
   "id": "f4a1a910",
   "metadata": {},
   "source": [
    "# 1. Cambiar las etiquetas de Sale to Retorn y Descuento en binario\n",
    "no = 0 // return = 0\n",
    "\n",
    "\n",
    "si = 1 // sale = 1"
   ]
  },
  {
   "cell_type": "code",
   "execution_count": 5,
   "id": "db077d39",
   "metadata": {},
   "outputs": [
    {
     "data": {
      "text/html": [
       "<div>\n",
       "<style scoped>\n",
       "    .dataframe tbody tr th:only-of-type {\n",
       "        vertical-align: middle;\n",
       "    }\n",
       "\n",
       "    .dataframe tbody tr th {\n",
       "        vertical-align: top;\n",
       "    }\n",
       "\n",
       "    .dataframe thead th {\n",
       "        text-align: right;\n",
       "    }\n",
       "</style>\n",
       "<table border=\"1\" class=\"dataframe\">\n",
       "  <thead>\n",
       "    <tr style=\"text-align: right;\">\n",
       "      <th></th>\n",
       "      <th>Date</th>\n",
       "      <th>Time</th>\n",
       "      <th>Item Code</th>\n",
       "      <th>Quantity Sold (kilo)</th>\n",
       "      <th>Unit Selling Price (RMB/kg)</th>\n",
       "      <th>Sale or Return</th>\n",
       "      <th>Discount (Yes/No)</th>\n",
       "    </tr>\n",
       "  </thead>\n",
       "  <tbody>\n",
       "    <tr>\n",
       "      <th>0</th>\n",
       "      <td>2020-07-01</td>\n",
       "      <td>09:15:07.924</td>\n",
       "      <td>102900005117056</td>\n",
       "      <td>0.396</td>\n",
       "      <td>7.6</td>\n",
       "      <td>1</td>\n",
       "      <td>0</td>\n",
       "    </tr>\n",
       "    <tr>\n",
       "      <th>1</th>\n",
       "      <td>2020-07-01</td>\n",
       "      <td>09:17:27.295</td>\n",
       "      <td>102900005115960</td>\n",
       "      <td>0.849</td>\n",
       "      <td>3.2</td>\n",
       "      <td>1</td>\n",
       "      <td>0</td>\n",
       "    </tr>\n",
       "    <tr>\n",
       "      <th>2</th>\n",
       "      <td>2020-07-01</td>\n",
       "      <td>09:17:33.905</td>\n",
       "      <td>102900005117056</td>\n",
       "      <td>0.409</td>\n",
       "      <td>7.6</td>\n",
       "      <td>1</td>\n",
       "      <td>0</td>\n",
       "    </tr>\n",
       "    <tr>\n",
       "      <th>3</th>\n",
       "      <td>2020-07-01</td>\n",
       "      <td>09:19:45.450</td>\n",
       "      <td>102900005115823</td>\n",
       "      <td>0.421</td>\n",
       "      <td>10.0</td>\n",
       "      <td>1</td>\n",
       "      <td>0</td>\n",
       "    </tr>\n",
       "    <tr>\n",
       "      <th>4</th>\n",
       "      <td>2020-07-01</td>\n",
       "      <td>09:20:23.686</td>\n",
       "      <td>102900005115908</td>\n",
       "      <td>0.539</td>\n",
       "      <td>8.0</td>\n",
       "      <td>1</td>\n",
       "      <td>0</td>\n",
       "    </tr>\n",
       "    <tr>\n",
       "      <th>...</th>\n",
       "      <td>...</td>\n",
       "      <td>...</td>\n",
       "      <td>...</td>\n",
       "      <td>...</td>\n",
       "      <td>...</td>\n",
       "      <td>...</td>\n",
       "      <td>...</td>\n",
       "    </tr>\n",
       "    <tr>\n",
       "      <th>878498</th>\n",
       "      <td>2023-06-30</td>\n",
       "      <td>21:35:13.264</td>\n",
       "      <td>102900005115250</td>\n",
       "      <td>0.284</td>\n",
       "      <td>24.0</td>\n",
       "      <td>1</td>\n",
       "      <td>0</td>\n",
       "    </tr>\n",
       "    <tr>\n",
       "      <th>878499</th>\n",
       "      <td>2023-06-30</td>\n",
       "      <td>21:35:14.358</td>\n",
       "      <td>102900011022764</td>\n",
       "      <td>0.669</td>\n",
       "      <td>12.0</td>\n",
       "      <td>1</td>\n",
       "      <td>0</td>\n",
       "    </tr>\n",
       "    <tr>\n",
       "      <th>878500</th>\n",
       "      <td>2023-06-30</td>\n",
       "      <td>21:35:20.264</td>\n",
       "      <td>102900005115250</td>\n",
       "      <td>0.125</td>\n",
       "      <td>24.0</td>\n",
       "      <td>1</td>\n",
       "      <td>0</td>\n",
       "    </tr>\n",
       "    <tr>\n",
       "      <th>878501</th>\n",
       "      <td>2023-06-30</td>\n",
       "      <td>21:35:21.509</td>\n",
       "      <td>102900011016701</td>\n",
       "      <td>0.252</td>\n",
       "      <td>5.2</td>\n",
       "      <td>1</td>\n",
       "      <td>0</td>\n",
       "    </tr>\n",
       "    <tr>\n",
       "      <th>878502</th>\n",
       "      <td>2023-06-30</td>\n",
       "      <td>21:40:48.248</td>\n",
       "      <td>102900011022764</td>\n",
       "      <td>0.803</td>\n",
       "      <td>12.0</td>\n",
       "      <td>1</td>\n",
       "      <td>0</td>\n",
       "    </tr>\n",
       "  </tbody>\n",
       "</table>\n",
       "<p>878503 rows × 7 columns</p>\n",
       "</div>"
      ],
      "text/plain": [
       "              Date          Time        Item Code  Quantity Sold (kilo)  \\\n",
       "0       2020-07-01  09:15:07.924  102900005117056                 0.396   \n",
       "1       2020-07-01  09:17:27.295  102900005115960                 0.849   \n",
       "2       2020-07-01  09:17:33.905  102900005117056                 0.409   \n",
       "3       2020-07-01  09:19:45.450  102900005115823                 0.421   \n",
       "4       2020-07-01  09:20:23.686  102900005115908                 0.539   \n",
       "...            ...           ...              ...                   ...   \n",
       "878498  2023-06-30  21:35:13.264  102900005115250                 0.284   \n",
       "878499  2023-06-30  21:35:14.358  102900011022764                 0.669   \n",
       "878500  2023-06-30  21:35:20.264  102900005115250                 0.125   \n",
       "878501  2023-06-30  21:35:21.509  102900011016701                 0.252   \n",
       "878502  2023-06-30  21:40:48.248  102900011022764                 0.803   \n",
       "\n",
       "        Unit Selling Price (RMB/kg) Sale or Return Discount (Yes/No)  \n",
       "0                               7.6              1                 0  \n",
       "1                               3.2              1                 0  \n",
       "2                               7.6              1                 0  \n",
       "3                              10.0              1                 0  \n",
       "4                               8.0              1                 0  \n",
       "...                             ...            ...               ...  \n",
       "878498                         24.0              1                 0  \n",
       "878499                         12.0              1                 0  \n",
       "878500                         24.0              1                 0  \n",
       "878501                          5.2              1                 0  \n",
       "878502                         12.0              1                 0  \n",
       "\n",
       "[878503 rows x 7 columns]"
      ]
     },
     "execution_count": 5,
     "metadata": {},
     "output_type": "execute_result"
    }
   ],
   "source": [
    "# reemplazar los valores\n",
    "df2['Sale or Return'] = df2['Sale or Return'].map(lambda x: x.replace('sale', '1').replace('return', '0'))\n",
    "df2['Discount (Yes/No)'] = df2['Discount (Yes/No)'].map(lambda x: x.replace('Yes', '1').replace('No', '0'))\n",
    "\n",
    "df2"
   ]
  },
  {
   "cell_type": "code",
   "execution_count": 6,
   "id": "984b99a2",
   "metadata": {},
   "outputs": [
    {
     "data": {
      "text/plain": [
       "array(['1', '0'], dtype=object)"
      ]
     },
     "execution_count": 6,
     "metadata": {},
     "output_type": "execute_result"
    }
   ],
   "source": [
    "df2['Sale or Return'].unique()"
   ]
  },
  {
   "cell_type": "code",
   "execution_count": 7,
   "id": "feaab7a8",
   "metadata": {},
   "outputs": [],
   "source": [
    "# convercion de STR A INT\n",
    "\n",
    "df2['Sale or Return'] = df2['Sale or Return'].astype(int)\n",
    "\n",
    "df2['Discount (Yes/No)'] = df2['Discount (Yes/No)'].astype(int)"
   ]
  },
  {
   "cell_type": "code",
   "execution_count": 8,
   "id": "093cdd07",
   "metadata": {},
   "outputs": [
    {
     "name": "stdout",
     "output_type": "stream",
     "text": [
      "<class 'pandas.core.frame.DataFrame'>\n",
      "RangeIndex: 878503 entries, 0 to 878502\n",
      "Data columns (total 7 columns):\n",
      " #   Column                       Non-Null Count   Dtype  \n",
      "---  ------                       --------------   -----  \n",
      " 0   Date                         878503 non-null  object \n",
      " 1   Time                         878503 non-null  object \n",
      " 2   Item Code                    878503 non-null  int64  \n",
      " 3   Quantity Sold (kilo)         878503 non-null  float64\n",
      " 4   Unit Selling Price (RMB/kg)  878503 non-null  float64\n",
      " 5   Sale or Return               878503 non-null  int64  \n",
      " 6   Discount (Yes/No)            878503 non-null  int64  \n",
      "dtypes: float64(2), int64(3), object(2)\n",
      "memory usage: 46.9+ MB\n"
     ]
    }
   ],
   "source": [
    "df2.info()"
   ]
  },
  {
   "cell_type": "code",
   "execution_count": 9,
   "id": "7fe1ee81",
   "metadata": {},
   "outputs": [
    {
     "data": {
      "text/plain": [
       "array([1, 0])"
      ]
     },
     "execution_count": 9,
     "metadata": {},
     "output_type": "execute_result"
    }
   ],
   "source": [
    "df2['Sale or Return'].unique()"
   ]
  },
  {
   "cell_type": "code",
   "execution_count": 10,
   "id": "f5070828",
   "metadata": {},
   "outputs": [
    {
     "data": {
      "text/html": [
       "<div>\n",
       "<style scoped>\n",
       "    .dataframe tbody tr th:only-of-type {\n",
       "        vertical-align: middle;\n",
       "    }\n",
       "\n",
       "    .dataframe tbody tr th {\n",
       "        vertical-align: top;\n",
       "    }\n",
       "\n",
       "    .dataframe thead th {\n",
       "        text-align: right;\n",
       "    }\n",
       "</style>\n",
       "<table border=\"1\" class=\"dataframe\">\n",
       "  <thead>\n",
       "    <tr style=\"text-align: right;\">\n",
       "      <th></th>\n",
       "      <th>Time</th>\n",
       "      <th>Date</th>\n",
       "    </tr>\n",
       "  </thead>\n",
       "  <tbody>\n",
       "    <tr>\n",
       "      <th>0</th>\n",
       "      <td>09:15:07.924</td>\n",
       "      <td>2020-07-01</td>\n",
       "    </tr>\n",
       "    <tr>\n",
       "      <th>1</th>\n",
       "      <td>09:17:27.295</td>\n",
       "      <td>2020-07-01</td>\n",
       "    </tr>\n",
       "    <tr>\n",
       "      <th>2</th>\n",
       "      <td>09:17:33.905</td>\n",
       "      <td>2020-07-01</td>\n",
       "    </tr>\n",
       "    <tr>\n",
       "      <th>3</th>\n",
       "      <td>09:19:45.450</td>\n",
       "      <td>2020-07-01</td>\n",
       "    </tr>\n",
       "    <tr>\n",
       "      <th>4</th>\n",
       "      <td>09:20:23.686</td>\n",
       "      <td>2020-07-01</td>\n",
       "    </tr>\n",
       "  </tbody>\n",
       "</table>\n",
       "</div>"
      ],
      "text/plain": [
       "           Time        Date\n",
       "0  09:15:07.924  2020-07-01\n",
       "1  09:17:27.295  2020-07-01\n",
       "2  09:17:33.905  2020-07-01\n",
       "3  09:19:45.450  2020-07-01\n",
       "4  09:20:23.686  2020-07-01"
      ]
     },
     "execution_count": 10,
     "metadata": {},
     "output_type": "execute_result"
    }
   ],
   "source": [
    "(df2[['Time', 'Date']]).head()\n",
    "\n",
    "#(df2[['Time', 'Date']]).info()"
   ]
  },
  {
   "cell_type": "code",
   "execution_count": 11,
   "id": "d5ec1954",
   "metadata": {},
   "outputs": [],
   "source": [
    "#cambiar object a DATE\n",
    "df2['Date'] = pd.to_datetime(df2['Date'], format='%Y-%m-%d')"
   ]
  },
  {
   "cell_type": "code",
   "execution_count": 12,
   "id": "c38a6961",
   "metadata": {},
   "outputs": [
    {
     "name": "stdout",
     "output_type": "stream",
     "text": [
      "<class 'pandas.core.frame.DataFrame'>\n",
      "RangeIndex: 878503 entries, 0 to 878502\n",
      "Data columns (total 2 columns):\n",
      " #   Column  Non-Null Count   Dtype         \n",
      "---  ------  --------------   -----         \n",
      " 0   Time    878503 non-null  object        \n",
      " 1   Date    878503 non-null  datetime64[ns]\n",
      "dtypes: datetime64[ns](1), object(1)\n",
      "memory usage: 13.4+ MB\n"
     ]
    }
   ],
   "source": [
    "(df2[['Time', 'Date']]).info()"
   ]
  },
  {
   "cell_type": "code",
   "execution_count": 13,
   "id": "95966635",
   "metadata": {},
   "outputs": [
    {
     "data": {
      "text/html": [
       "<div>\n",
       "<style scoped>\n",
       "    .dataframe tbody tr th:only-of-type {\n",
       "        vertical-align: middle;\n",
       "    }\n",
       "\n",
       "    .dataframe tbody tr th {\n",
       "        vertical-align: top;\n",
       "    }\n",
       "\n",
       "    .dataframe thead th {\n",
       "        text-align: right;\n",
       "    }\n",
       "</style>\n",
       "<table border=\"1\" class=\"dataframe\">\n",
       "  <thead>\n",
       "    <tr style=\"text-align: right;\">\n",
       "      <th></th>\n",
       "      <th>Date</th>\n",
       "      <th>Time</th>\n",
       "      <th>Item Code</th>\n",
       "      <th>Quantity Sold (kilo)</th>\n",
       "      <th>Unit Selling Price (RMB/kg)</th>\n",
       "      <th>Sale or Return</th>\n",
       "      <th>Discount (Yes/No)</th>\n",
       "      <th>Year Sale</th>\n",
       "      <th>Month Sale</th>\n",
       "      <th>Day Sale</th>\n",
       "    </tr>\n",
       "  </thead>\n",
       "  <tbody>\n",
       "    <tr>\n",
       "      <th>0</th>\n",
       "      <td>2020-07-01</td>\n",
       "      <td>09:15:07.924</td>\n",
       "      <td>102900005117056</td>\n",
       "      <td>0.396</td>\n",
       "      <td>7.6</td>\n",
       "      <td>1</td>\n",
       "      <td>0</td>\n",
       "      <td>2020</td>\n",
       "      <td>7</td>\n",
       "      <td>1</td>\n",
       "    </tr>\n",
       "    <tr>\n",
       "      <th>1</th>\n",
       "      <td>2020-07-01</td>\n",
       "      <td>09:17:27.295</td>\n",
       "      <td>102900005115960</td>\n",
       "      <td>0.849</td>\n",
       "      <td>3.2</td>\n",
       "      <td>1</td>\n",
       "      <td>0</td>\n",
       "      <td>2020</td>\n",
       "      <td>7</td>\n",
       "      <td>1</td>\n",
       "    </tr>\n",
       "    <tr>\n",
       "      <th>2</th>\n",
       "      <td>2020-07-01</td>\n",
       "      <td>09:17:33.905</td>\n",
       "      <td>102900005117056</td>\n",
       "      <td>0.409</td>\n",
       "      <td>7.6</td>\n",
       "      <td>1</td>\n",
       "      <td>0</td>\n",
       "      <td>2020</td>\n",
       "      <td>7</td>\n",
       "      <td>1</td>\n",
       "    </tr>\n",
       "    <tr>\n",
       "      <th>3</th>\n",
       "      <td>2020-07-01</td>\n",
       "      <td>09:19:45.450</td>\n",
       "      <td>102900005115823</td>\n",
       "      <td>0.421</td>\n",
       "      <td>10.0</td>\n",
       "      <td>1</td>\n",
       "      <td>0</td>\n",
       "      <td>2020</td>\n",
       "      <td>7</td>\n",
       "      <td>1</td>\n",
       "    </tr>\n",
       "    <tr>\n",
       "      <th>4</th>\n",
       "      <td>2020-07-01</td>\n",
       "      <td>09:20:23.686</td>\n",
       "      <td>102900005115908</td>\n",
       "      <td>0.539</td>\n",
       "      <td>8.0</td>\n",
       "      <td>1</td>\n",
       "      <td>0</td>\n",
       "      <td>2020</td>\n",
       "      <td>7</td>\n",
       "      <td>1</td>\n",
       "    </tr>\n",
       "  </tbody>\n",
       "</table>\n",
       "</div>"
      ],
      "text/plain": [
       "        Date          Time        Item Code  Quantity Sold (kilo)  \\\n",
       "0 2020-07-01  09:15:07.924  102900005117056                 0.396   \n",
       "1 2020-07-01  09:17:27.295  102900005115960                 0.849   \n",
       "2 2020-07-01  09:17:33.905  102900005117056                 0.409   \n",
       "3 2020-07-01  09:19:45.450  102900005115823                 0.421   \n",
       "4 2020-07-01  09:20:23.686  102900005115908                 0.539   \n",
       "\n",
       "   Unit Selling Price (RMB/kg)  Sale or Return  Discount (Yes/No)  Year Sale  \\\n",
       "0                          7.6               1                  0       2020   \n",
       "1                          3.2               1                  0       2020   \n",
       "2                          7.6               1                  0       2020   \n",
       "3                         10.0               1                  0       2020   \n",
       "4                          8.0               1                  0       2020   \n",
       "\n",
       "   Month Sale  Day Sale  \n",
       "0           7         1  \n",
       "1           7         1  \n",
       "2           7         1  \n",
       "3           7         1  \n",
       "4           7         1  "
      ]
     },
     "execution_count": 13,
     "metadata": {},
     "output_type": "execute_result"
    }
   ],
   "source": [
    "#CREAR LAS NUEVAS COUMNAS PARA UNA MEJOR ANALITICA\n",
    "df2['Year Sale'] = df2['Date'].dt.year\n",
    "df2['Month Sale'] = df2['Date'].dt.month\n",
    "df2['Day Sale'] = df2['Date'].dt.day\n",
    "\n",
    "\n",
    "df2.head(5)\n"
   ]
  },
  {
   "cell_type": "code",
   "execution_count": 14,
   "id": "3162a635",
   "metadata": {},
   "outputs": [],
   "source": [
    "# convertir la columna TIME, se realiza la creacion de una funcion que itere para cuando falte los segundos, se le añade 0.000\n",
    "\n",
    "def eliminar_milisegundos(time_str):\n",
    "    if isinstance(time_str, str):\n",
    "        if '.' in time_str:\n",
    "            return time_str.split('.')[0]\n",
    "    return time_str\n",
    "\n",
    "# Aplicar la función para eliminar los milisegundos\n",
    "df2['Time'] = df2['Time'].apply(eliminar_milisegundos)\n",
    "\n"
   ]
  },
  {
   "cell_type": "code",
   "execution_count": 15,
   "id": "74965dc6",
   "metadata": {},
   "outputs": [
    {
     "data": {
      "text/html": [
       "<div>\n",
       "<style scoped>\n",
       "    .dataframe tbody tr th:only-of-type {\n",
       "        vertical-align: middle;\n",
       "    }\n",
       "\n",
       "    .dataframe tbody tr th {\n",
       "        vertical-align: top;\n",
       "    }\n",
       "\n",
       "    .dataframe thead th {\n",
       "        text-align: right;\n",
       "    }\n",
       "</style>\n",
       "<table border=\"1\" class=\"dataframe\">\n",
       "  <thead>\n",
       "    <tr style=\"text-align: right;\">\n",
       "      <th></th>\n",
       "      <th>Date</th>\n",
       "      <th>Time</th>\n",
       "      <th>Item Code</th>\n",
       "      <th>Quantity Sold (kilo)</th>\n",
       "      <th>Unit Selling Price (RMB/kg)</th>\n",
       "      <th>Sale or Return</th>\n",
       "      <th>Discount (Yes/No)</th>\n",
       "      <th>Year Sale</th>\n",
       "      <th>Month Sale</th>\n",
       "      <th>Day Sale</th>\n",
       "    </tr>\n",
       "  </thead>\n",
       "  <tbody>\n",
       "    <tr>\n",
       "      <th>0</th>\n",
       "      <td>2020-07-01</td>\n",
       "      <td>09:15:07</td>\n",
       "      <td>102900005117056</td>\n",
       "      <td>0.396</td>\n",
       "      <td>7.6</td>\n",
       "      <td>1</td>\n",
       "      <td>0</td>\n",
       "      <td>2020</td>\n",
       "      <td>7</td>\n",
       "      <td>1</td>\n",
       "    </tr>\n",
       "    <tr>\n",
       "      <th>1</th>\n",
       "      <td>2020-07-01</td>\n",
       "      <td>09:17:27</td>\n",
       "      <td>102900005115960</td>\n",
       "      <td>0.849</td>\n",
       "      <td>3.2</td>\n",
       "      <td>1</td>\n",
       "      <td>0</td>\n",
       "      <td>2020</td>\n",
       "      <td>7</td>\n",
       "      <td>1</td>\n",
       "    </tr>\n",
       "    <tr>\n",
       "      <th>2</th>\n",
       "      <td>2020-07-01</td>\n",
       "      <td>09:17:33</td>\n",
       "      <td>102900005117056</td>\n",
       "      <td>0.409</td>\n",
       "      <td>7.6</td>\n",
       "      <td>1</td>\n",
       "      <td>0</td>\n",
       "      <td>2020</td>\n",
       "      <td>7</td>\n",
       "      <td>1</td>\n",
       "    </tr>\n",
       "    <tr>\n",
       "      <th>3</th>\n",
       "      <td>2020-07-01</td>\n",
       "      <td>09:19:45</td>\n",
       "      <td>102900005115823</td>\n",
       "      <td>0.421</td>\n",
       "      <td>10.0</td>\n",
       "      <td>1</td>\n",
       "      <td>0</td>\n",
       "      <td>2020</td>\n",
       "      <td>7</td>\n",
       "      <td>1</td>\n",
       "    </tr>\n",
       "    <tr>\n",
       "      <th>4</th>\n",
       "      <td>2020-07-01</td>\n",
       "      <td>09:20:23</td>\n",
       "      <td>102900005115908</td>\n",
       "      <td>0.539</td>\n",
       "      <td>8.0</td>\n",
       "      <td>1</td>\n",
       "      <td>0</td>\n",
       "      <td>2020</td>\n",
       "      <td>7</td>\n",
       "      <td>1</td>\n",
       "    </tr>\n",
       "  </tbody>\n",
       "</table>\n",
       "</div>"
      ],
      "text/plain": [
       "        Date      Time        Item Code  Quantity Sold (kilo)  \\\n",
       "0 2020-07-01  09:15:07  102900005117056                 0.396   \n",
       "1 2020-07-01  09:17:27  102900005115960                 0.849   \n",
       "2 2020-07-01  09:17:33  102900005117056                 0.409   \n",
       "3 2020-07-01  09:19:45  102900005115823                 0.421   \n",
       "4 2020-07-01  09:20:23  102900005115908                 0.539   \n",
       "\n",
       "   Unit Selling Price (RMB/kg)  Sale or Return  Discount (Yes/No)  Year Sale  \\\n",
       "0                          7.6               1                  0       2020   \n",
       "1                          3.2               1                  0       2020   \n",
       "2                          7.6               1                  0       2020   \n",
       "3                         10.0               1                  0       2020   \n",
       "4                          8.0               1                  0       2020   \n",
       "\n",
       "   Month Sale  Day Sale  \n",
       "0           7         1  \n",
       "1           7         1  \n",
       "2           7         1  \n",
       "3           7         1  \n",
       "4           7         1  "
      ]
     },
     "execution_count": 15,
     "metadata": {},
     "output_type": "execute_result"
    }
   ],
   "source": [
    "df2.head()"
   ]
  },
  {
   "cell_type": "code",
   "execution_count": 16,
   "id": "f23b63c7",
   "metadata": {},
   "outputs": [
    {
     "data": {
      "text/html": [
       "<div>\n",
       "<style scoped>\n",
       "    .dataframe tbody tr th:only-of-type {\n",
       "        vertical-align: middle;\n",
       "    }\n",
       "\n",
       "    .dataframe tbody tr th {\n",
       "        vertical-align: top;\n",
       "    }\n",
       "\n",
       "    .dataframe thead th {\n",
       "        text-align: right;\n",
       "    }\n",
       "</style>\n",
       "<table border=\"1\" class=\"dataframe\">\n",
       "  <thead>\n",
       "    <tr style=\"text-align: right;\">\n",
       "      <th></th>\n",
       "      <th>Item Code</th>\n",
       "      <th>Quantity Sold (kilo)</th>\n",
       "      <th>Unit Selling Price (RMB/kg)</th>\n",
       "      <th>Sale or Return</th>\n",
       "      <th>Discount (Yes/No)</th>\n",
       "      <th>Year Sale</th>\n",
       "      <th>Month Sale</th>\n",
       "      <th>Day Sale</th>\n",
       "      <th>Time</th>\n",
       "    </tr>\n",
       "  </thead>\n",
       "  <tbody>\n",
       "    <tr>\n",
       "      <th>0</th>\n",
       "      <td>102900005117056</td>\n",
       "      <td>0.396</td>\n",
       "      <td>7.6</td>\n",
       "      <td>1</td>\n",
       "      <td>0</td>\n",
       "      <td>2020</td>\n",
       "      <td>7</td>\n",
       "      <td>1</td>\n",
       "      <td>09:15:07</td>\n",
       "    </tr>\n",
       "    <tr>\n",
       "      <th>1</th>\n",
       "      <td>102900005115960</td>\n",
       "      <td>0.849</td>\n",
       "      <td>3.2</td>\n",
       "      <td>1</td>\n",
       "      <td>0</td>\n",
       "      <td>2020</td>\n",
       "      <td>7</td>\n",
       "      <td>1</td>\n",
       "      <td>09:17:27</td>\n",
       "    </tr>\n",
       "    <tr>\n",
       "      <th>2</th>\n",
       "      <td>102900005117056</td>\n",
       "      <td>0.409</td>\n",
       "      <td>7.6</td>\n",
       "      <td>1</td>\n",
       "      <td>0</td>\n",
       "      <td>2020</td>\n",
       "      <td>7</td>\n",
       "      <td>1</td>\n",
       "      <td>09:17:33</td>\n",
       "    </tr>\n",
       "    <tr>\n",
       "      <th>3</th>\n",
       "      <td>102900005115823</td>\n",
       "      <td>0.421</td>\n",
       "      <td>10.0</td>\n",
       "      <td>1</td>\n",
       "      <td>0</td>\n",
       "      <td>2020</td>\n",
       "      <td>7</td>\n",
       "      <td>1</td>\n",
       "      <td>09:19:45</td>\n",
       "    </tr>\n",
       "    <tr>\n",
       "      <th>4</th>\n",
       "      <td>102900005115908</td>\n",
       "      <td>0.539</td>\n",
       "      <td>8.0</td>\n",
       "      <td>1</td>\n",
       "      <td>0</td>\n",
       "      <td>2020</td>\n",
       "      <td>7</td>\n",
       "      <td>1</td>\n",
       "      <td>09:20:23</td>\n",
       "    </tr>\n",
       "    <tr>\n",
       "      <th>...</th>\n",
       "      <td>...</td>\n",
       "      <td>...</td>\n",
       "      <td>...</td>\n",
       "      <td>...</td>\n",
       "      <td>...</td>\n",
       "      <td>...</td>\n",
       "      <td>...</td>\n",
       "      <td>...</td>\n",
       "      <td>...</td>\n",
       "    </tr>\n",
       "    <tr>\n",
       "      <th>878498</th>\n",
       "      <td>102900005115250</td>\n",
       "      <td>0.284</td>\n",
       "      <td>24.0</td>\n",
       "      <td>1</td>\n",
       "      <td>0</td>\n",
       "      <td>2023</td>\n",
       "      <td>6</td>\n",
       "      <td>30</td>\n",
       "      <td>21:35:13</td>\n",
       "    </tr>\n",
       "    <tr>\n",
       "      <th>878499</th>\n",
       "      <td>102900011022764</td>\n",
       "      <td>0.669</td>\n",
       "      <td>12.0</td>\n",
       "      <td>1</td>\n",
       "      <td>0</td>\n",
       "      <td>2023</td>\n",
       "      <td>6</td>\n",
       "      <td>30</td>\n",
       "      <td>21:35:14</td>\n",
       "    </tr>\n",
       "    <tr>\n",
       "      <th>878500</th>\n",
       "      <td>102900005115250</td>\n",
       "      <td>0.125</td>\n",
       "      <td>24.0</td>\n",
       "      <td>1</td>\n",
       "      <td>0</td>\n",
       "      <td>2023</td>\n",
       "      <td>6</td>\n",
       "      <td>30</td>\n",
       "      <td>21:35:20</td>\n",
       "    </tr>\n",
       "    <tr>\n",
       "      <th>878501</th>\n",
       "      <td>102900011016701</td>\n",
       "      <td>0.252</td>\n",
       "      <td>5.2</td>\n",
       "      <td>1</td>\n",
       "      <td>0</td>\n",
       "      <td>2023</td>\n",
       "      <td>6</td>\n",
       "      <td>30</td>\n",
       "      <td>21:35:21</td>\n",
       "    </tr>\n",
       "    <tr>\n",
       "      <th>878502</th>\n",
       "      <td>102900011022764</td>\n",
       "      <td>0.803</td>\n",
       "      <td>12.0</td>\n",
       "      <td>1</td>\n",
       "      <td>0</td>\n",
       "      <td>2023</td>\n",
       "      <td>6</td>\n",
       "      <td>30</td>\n",
       "      <td>21:40:48</td>\n",
       "    </tr>\n",
       "  </tbody>\n",
       "</table>\n",
       "<p>878503 rows × 9 columns</p>\n",
       "</div>"
      ],
      "text/plain": [
       "              Item Code  Quantity Sold (kilo)  Unit Selling Price (RMB/kg)  \\\n",
       "0       102900005117056                 0.396                          7.6   \n",
       "1       102900005115960                 0.849                          3.2   \n",
       "2       102900005117056                 0.409                          7.6   \n",
       "3       102900005115823                 0.421                         10.0   \n",
       "4       102900005115908                 0.539                          8.0   \n",
       "...                 ...                   ...                          ...   \n",
       "878498  102900005115250                 0.284                         24.0   \n",
       "878499  102900011022764                 0.669                         12.0   \n",
       "878500  102900005115250                 0.125                         24.0   \n",
       "878501  102900011016701                 0.252                          5.2   \n",
       "878502  102900011022764                 0.803                         12.0   \n",
       "\n",
       "        Sale or Return  Discount (Yes/No)  Year Sale  Month Sale  Day Sale  \\\n",
       "0                    1                  0       2020           7         1   \n",
       "1                    1                  0       2020           7         1   \n",
       "2                    1                  0       2020           7         1   \n",
       "3                    1                  0       2020           7         1   \n",
       "4                    1                  0       2020           7         1   \n",
       "...                ...                ...        ...         ...       ...   \n",
       "878498               1                  0       2023           6        30   \n",
       "878499               1                  0       2023           6        30   \n",
       "878500               1                  0       2023           6        30   \n",
       "878501               1                  0       2023           6        30   \n",
       "878502               1                  0       2023           6        30   \n",
       "\n",
       "            Time  \n",
       "0       09:15:07  \n",
       "1       09:17:27  \n",
       "2       09:17:33  \n",
       "3       09:19:45  \n",
       "4       09:20:23  \n",
       "...          ...  \n",
       "878498  21:35:13  \n",
       "878499  21:35:14  \n",
       "878500  21:35:20  \n",
       "878501  21:35:21  \n",
       "878502  21:40:48  \n",
       "\n",
       "[878503 rows x 9 columns]"
      ]
     },
     "execution_count": 16,
     "metadata": {},
     "output_type": "execute_result"
    }
   ],
   "source": [
    "df_clean = df2[['Item Code', 'Quantity Sold (kilo)', 'Unit Selling Price (RMB/kg)', 'Sale or Return', 'Discount (Yes/No)', 'Year Sale', 'Month Sale', 'Day Sale', 'Time']]\n",
    "df_clean"
   ]
  },
  {
   "cell_type": "code",
   "execution_count": 17,
   "id": "793041ca",
   "metadata": {},
   "outputs": [
    {
     "name": "stdout",
     "output_type": "stream",
     "text": [
      "<class 'pandas.core.frame.DataFrame'>\n",
      "RangeIndex: 878503 entries, 0 to 878502\n",
      "Data columns (total 9 columns):\n",
      " #   Column                       Non-Null Count   Dtype  \n",
      "---  ------                       --------------   -----  \n",
      " 0   Item Code                    878503 non-null  int64  \n",
      " 1   Quantity Sold (kilo)         878503 non-null  float64\n",
      " 2   Unit Selling Price (RMB/kg)  878503 non-null  float64\n",
      " 3   Sale or Return               878503 non-null  int64  \n",
      " 4   Discount (Yes/No)            878503 non-null  int64  \n",
      " 5   Year Sale                    878503 non-null  int32  \n",
      " 6   Month Sale                   878503 non-null  int32  \n",
      " 7   Day Sale                     878503 non-null  int32  \n",
      " 8   Time                         878503 non-null  object \n",
      "dtypes: float64(2), int32(3), int64(3), object(1)\n",
      "memory usage: 50.3+ MB\n"
     ]
    }
   ],
   "source": [
    "df_clean.info()"
   ]
  },
  {
   "cell_type": "code",
   "execution_count": 33,
   "id": "3559142b",
   "metadata": {},
   "outputs": [
    {
     "name": "stdout",
     "output_type": "stream",
     "text": [
      "<class 'pandas.core.frame.DataFrame'>\n",
      "RangeIndex: 878503 entries, 0 to 878502\n",
      "Data columns (total 9 columns):\n",
      " #   Column                       Non-Null Count   Dtype  \n",
      "---  ------                       --------------   -----  \n",
      " 0   Item Code                    878503 non-null  int64  \n",
      " 1   Quantity Sold (kilo)         878503 non-null  float64\n",
      " 2   Unit Selling Price (RMB/kg)  878503 non-null  float64\n",
      " 3   Sale or Return               878503 non-null  int64  \n",
      " 4   Discount (Yes/No)            878503 non-null  int64  \n",
      " 5   Year Sale                    878503 non-null  int32  \n",
      " 6   Month Sale                   878503 non-null  int32  \n",
      " 7   Day Sale                     878503 non-null  int32  \n",
      " 8   Time                         878503 non-null  object \n",
      "dtypes: float64(2), int32(3), int64(3), object(1)\n",
      "memory usage: 50.3+ MB\n"
     ]
    }
   ],
   "source": [
    "df_clean.info()"
   ]
  },
  {
   "cell_type": "code",
   "execution_count": null,
   "id": "c4d42dc7",
   "metadata": {},
   "outputs": [],
   "source": [
    "##df_clean.to_csv('datosLimpiosAnnexo2.csv', index=False)"
   ]
  },
  {
   "cell_type": "markdown",
   "id": "21937fe0",
   "metadata": {},
   "source": [
    "# ver los iten code cuantas veces se repiten, y si el precio a kilo es igual o cambia con el precio unitario\n"
   ]
  },
  {
   "cell_type": "code",
   "execution_count": 18,
   "id": "2a0fa53d",
   "metadata": {},
   "outputs": [
    {
     "data": {
      "text/plain": [
       "array([ 1,  2,  3,  4,  5,  6,  7,  8,  9, 10, 11, 12, 13, 14, 15, 16, 17,\n",
       "       18, 19, 20, 21, 22, 23, 24, 25, 26, 27, 28, 29, 30, 31],\n",
       "      dtype=int32)"
      ]
     },
     "execution_count": 18,
     "metadata": {},
     "output_type": "execute_result"
    }
   ],
   "source": [
    "dias_años_200 = df_clean[df_clean['Year Sale'] == 2020]['Day Sale'].unique()\n",
    "dias_años_200"
   ]
  },
  {
   "cell_type": "code",
   "execution_count": 19,
   "id": "93f02e11",
   "metadata": {},
   "outputs": [
    {
     "data": {
      "text/plain": [
       "array([ 7,  8,  9, 10, 11, 12], dtype=int32)"
      ]
     },
     "execution_count": 19,
     "metadata": {},
     "output_type": "execute_result"
    }
   ],
   "source": [
    "meses_años_200 = df_clean[df_clean['Year Sale'] == 2020]['Month Sale'].unique()\n",
    "meses_años_200"
   ]
  },
  {
   "cell_type": "code",
   "execution_count": 20,
   "id": "777d5dbe",
   "metadata": {},
   "outputs": [
    {
     "name": "stdout",
     "output_type": "stream",
     "text": [
      "Item Code\n",
      "102900005117056    20671\n",
      "102900005116530    12454\n",
      "102900005116714    11892\n",
      "102900005115779    11104\n",
      "102900005116899     8272\n",
      "                   ...  \n",
      "102900011021699        9\n",
      "102900011010563        7\n",
      "106931885000035        5\n",
      "102900011010891        5\n",
      "102900011008577        1\n",
      "Name: count, Length: 91, dtype: int64\n"
     ]
    }
   ],
   "source": [
    "conteo_items_2020 = df_clean[df_clean['Year Sale'] == 2020]['Item Code'].value_counts()\n",
    "print(conteo_items_2020)"
   ]
  },
  {
   "cell_type": "markdown",
   "id": "db008142",
   "metadata": {},
   "source": [
    "## CONSULTAS DE PRECIOS EN KILOS, PRECIO UNITARIO EN EL AÑO 2020, PARA LA VERIFICACION SI LOS ITEMS SUBIERON O NO"
   ]
  },
  {
   "cell_type": "code",
   "execution_count": 21,
   "id": "c84864c6",
   "metadata": {},
   "outputs": [
    {
     "name": "stdout",
     "output_type": "stream",
     "text": [
      "Item Code\n",
      "102900005117056    3068\n",
      "102900005115779    2610\n",
      "102900005115984    2268\n",
      "102900005116530    2194\n",
      "102900005116714    1856\n",
      "102900005119975    1732\n",
      "102900011000328    1442\n",
      "102900011009970    1358\n",
      "102900005125815    1243\n",
      "102900005116547    1132\n",
      "102900005115786    1096\n",
      "102900005115823    1089\n",
      "102900011008522    1085\n",
      "102900005116257    1064\n",
      "102900005125808    1053\n",
      "102900005115908    1009\n",
      "102900051010455     978\n",
      "102900005116509     749\n",
      "102900051004294     703\n",
      "102900005115960     585\n",
      "102900005116233     544\n",
      "102900011009444     538\n",
      "102900005116899     468\n",
      "102900005118831     413\n",
      "102900005115793     411\n",
      "102900005116943     398\n",
      "102900005116226     289\n",
      "102900005115762     278\n",
      "102900005115946     273\n",
      "102900005118824     263\n",
      "102900005116912     249\n",
      "102900005119944     233\n",
      "102900011006689     149\n",
      "102900011001219     128\n",
      "102900005117209     108\n",
      "102900005123880      99\n",
      "106956146480197      84\n",
      "102900011006948      76\n",
      "102900005116790      72\n",
      "102900011001806      64\n",
      "102900051000944      48\n",
      "102900011001813      28\n",
      "102900005115816      15\n",
      "102900005118817      14\n",
      "102900011001561      14\n",
      "102900005116219      13\n",
      "102900011011546       7\n",
      "106956146480203       4\n",
      "102900005116837       1\n",
      "102900005115861       1\n",
      "Name: count, dtype: int64\n"
     ]
    }
   ],
   "source": [
    "count_items_2020_mosth7 = df_clean[(df_clean['Year Sale'] == 2020) & (df_clean['Month Sale'] == 7)]['Item Code'].value_counts()\n",
    "print(count_items_2020_mosth7)"
   ]
  },
  {
   "cell_type": "code",
   "execution_count": 22,
   "id": "1d71203f",
   "metadata": {},
   "outputs": [
    {
     "name": "stdout",
     "output_type": "stream",
     "text": [
      "Item Code\n",
      "102900005117056    137\n",
      "102900005115779    114\n",
      "102900005116714     79\n",
      "102900005115984     71\n",
      "102900005119975     58\n",
      "102900005125808     45\n",
      "102900005116530     40\n",
      "102900005125815     37\n",
      "102900005116547     34\n",
      "102900005116257     32\n",
      "102900011008522     32\n",
      "102900005115823     28\n",
      "102900005116509     28\n",
      "102900051004294     25\n",
      "102900005115786     24\n",
      "102900011009970     24\n",
      "102900005115908     20\n",
      "102900005116233     17\n",
      "102900005115960     16\n",
      "102900005118817     14\n",
      "102900005118824     13\n",
      "102900005115793     11\n",
      "102900051010455     11\n",
      "102900005116943     11\n",
      "102900005115762     11\n",
      "102900005118831     10\n",
      "102900005115946      9\n",
      "102900011006948      9\n",
      "102900005116226      9\n",
      "102900011001219      7\n",
      "102900005116790      7\n",
      "102900005116912      6\n",
      "102900005117209      5\n",
      "102900005119944      3\n",
      "102900005123880      3\n",
      "102900051000944      2\n",
      "Name: count, dtype: int64\n"
     ]
    }
   ],
   "source": [
    "count_items_2020_mosth7_day1 = df_clean[(df_clean['Year Sale'] == 2020) & (df_clean['Month Sale'] == 7) & (df_clean['Day Sale'] == 1)]['Item Code'].value_counts()\n",
    "print(count_items_2020_mosth7_day1)"
   ]
  },
  {
   "cell_type": "markdown",
   "id": "851c011f",
   "metadata": {},
   "source": [
    "## creacion de columna pfiltradas del pirmer porducto con mayor ventas en el mes de 07 dia 01 del 2020"
   ]
  },
  {
   "cell_type": "code",
   "execution_count": 23,
   "id": "c898edf8",
   "metadata": {},
   "outputs": [
    {
     "name": "stdout",
     "output_type": "stream",
     "text": [
      "El item más vendido el 2020-07-01 fue '102900005117056' con una frecuencia de 137 veces.\n",
      "\n",
      "Detalle de ventas del item más frecuente:\n",
      "            Item Code  Quantity Sold (kilo)\n",
      "0     102900005117056                 0.396\n",
      "2     102900005117056                 0.409\n",
      "5     102900005117056                 0.277\n",
      "7     102900005117056                 0.132\n",
      "36    102900005117056                 0.198\n",
      "...               ...                   ...\n",
      "995   102900005117056                 0.409\n",
      "996   102900005117056                 0.264\n",
      "998   102900005117056                 0.356\n",
      "999   102900005117056                 0.778\n",
      "1000  102900005117056                 0.251\n",
      "\n",
      "[137 rows x 2 columns]\n"
     ]
    }
   ],
   "source": [
    "\n",
    "\n",
    "# Filtrar el DataFrame para la fecha específica\n",
    "count_items_2020_mosth7_day1 = df_clean[(df_clean['Year Sale'] == 2020) & (df_clean['Month Sale'] == 7) & (df_clean['Day Sale'] == 1)].copy()\n",
    "\n",
    "# Calcular la frecuencia de cada 'Item Code' en el filtro\n",
    "item_counts = count_items_2020_mosth7_day1['Item Code'].value_counts()\n",
    "\n",
    "# Obtener el 'Item Code' más frecuente (el primero en value_counts())\n",
    "most_frequent_item = item_counts.index[0]\n",
    "frecuencia_maxima = item_counts.iloc[0]\n",
    "\n",
    "print(f\"El item más vendido el 2020-07-01 fue '{most_frequent_item}' con una frecuencia de {frecuencia_maxima} veces.\")\n",
    "\n",
    "# Filtrar el DataFrame original para obtener todas las filas de ese 'Item Code' en esa fecha\n",
    "df_most7_frequent_sales_day1 = count_items_2020_mosth7_day1[count_items_2020_mosth7_day1['Item Code'] == most_frequent_item]\n",
    "\n",
    "# Mostrar el 'Item Code' y la 'Quantity Sold (kilo)' de esas ventas\n",
    "print(\"\\nDetalle de ventas del item más frecuente:\")\n",
    "print(df_most7_frequent_sales_day1[['Item Code', 'Quantity Sold (kilo)']])"
   ]
  },
  {
   "cell_type": "markdown",
   "id": "07f9a373",
   "metadata": {},
   "source": [
    "## correlacion si el precio unitario aumenta o disminuye en el dia--- IMPORTANTE PARA GLOBALIZAR"
   ]
  },
  {
   "cell_type": "code",
   "execution_count": 24,
   "id": "1282bf77",
   "metadata": {},
   "outputs": [
    {
     "data": {
      "text/plain": [
       "array([7.6])"
      ]
     },
     "execution_count": 24,
     "metadata": {},
     "output_type": "execute_result"
    }
   ],
   "source": [
    "df_most7_frequent_sales_day1['Unit Selling Price (RMB/kg)'].unique()"
   ]
  },
  {
   "cell_type": "markdown",
   "id": "25144bb6",
   "metadata": {},
   "source": [
    "## YA VOLVEMOS, SE SIGUE CON LA GRAFICA DE LOS 10 HEAD DE Quantity Sold (kilo) AL DIA"
   ]
  },
  {
   "cell_type": "code",
   "execution_count": 25,
   "id": "f776413f",
   "metadata": {},
   "outputs": [],
   "source": [
    "\n",
    "import plotly.graph_objects as go\n",
    "import plotly.io as pio\n",
    "from collections import Counter\n",
    "\n",
    "# 🛠️ Configurar el renderer para VS Code\n",
    "pio.renderers.default = 'vscode'  # También puedes probar 'notebook_connected' si este da problemas\n"
   ]
  },
  {
   "cell_type": "markdown",
   "id": "67798604",
   "metadata": {},
   "source": [
    "## VALORES DE KILO EN TRANSCURSO DEL DIA"
   ]
  },
  {
   "cell_type": "code",
   "execution_count": 26,
   "id": "1c31b011",
   "metadata": {},
   "outputs": [
    {
     "data": {
      "application/vnd.plotly.v1+json": {
       "config": {
        "plotlyServerURL": "https://plot.ly"
       },
       "data": [
        {
         "marker": {
          "color": [
           "skyblue",
           "salmon",
           "lightgreen",
           "gold"
          ]
         },
         "name": "Cantidad (kilo)",
         "text": [
          "0.092",
          "1.082",
          "0.398",
          "0.356"
         ],
         "textposition": "outside",
         "type": "bar",
         "x": [
          "Mínimo",
          "Máximo",
          "Promedio",
          "Moda"
         ],
         "y": [
          0.092,
          1.082,
          0.39816058394160586,
          0.356
         ]
        }
       ],
       "layout": {
        "template": {
         "data": {
          "bar": [
           {
            "error_x": {
             "color": "#2a3f5f"
            },
            "error_y": {
             "color": "#2a3f5f"
            },
            "marker": {
             "line": {
              "color": "#E5ECF6",
              "width": 0.5
             },
             "pattern": {
              "fillmode": "overlay",
              "size": 10,
              "solidity": 0.2
             }
            },
            "type": "bar"
           }
          ],
          "barpolar": [
           {
            "marker": {
             "line": {
              "color": "#E5ECF6",
              "width": 0.5
             },
             "pattern": {
              "fillmode": "overlay",
              "size": 10,
              "solidity": 0.2
             }
            },
            "type": "barpolar"
           }
          ],
          "carpet": [
           {
            "aaxis": {
             "endlinecolor": "#2a3f5f",
             "gridcolor": "white",
             "linecolor": "white",
             "minorgridcolor": "white",
             "startlinecolor": "#2a3f5f"
            },
            "baxis": {
             "endlinecolor": "#2a3f5f",
             "gridcolor": "white",
             "linecolor": "white",
             "minorgridcolor": "white",
             "startlinecolor": "#2a3f5f"
            },
            "type": "carpet"
           }
          ],
          "choropleth": [
           {
            "colorbar": {
             "outlinewidth": 0,
             "ticks": ""
            },
            "type": "choropleth"
           }
          ],
          "contour": [
           {
            "colorbar": {
             "outlinewidth": 0,
             "ticks": ""
            },
            "colorscale": [
             [
              0,
              "#0d0887"
             ],
             [
              0.1111111111111111,
              "#46039f"
             ],
             [
              0.2222222222222222,
              "#7201a8"
             ],
             [
              0.3333333333333333,
              "#9c179e"
             ],
             [
              0.4444444444444444,
              "#bd3786"
             ],
             [
              0.5555555555555556,
              "#d8576b"
             ],
             [
              0.6666666666666666,
              "#ed7953"
             ],
             [
              0.7777777777777778,
              "#fb9f3a"
             ],
             [
              0.8888888888888888,
              "#fdca26"
             ],
             [
              1,
              "#f0f921"
             ]
            ],
            "type": "contour"
           }
          ],
          "contourcarpet": [
           {
            "colorbar": {
             "outlinewidth": 0,
             "ticks": ""
            },
            "type": "contourcarpet"
           }
          ],
          "heatmap": [
           {
            "colorbar": {
             "outlinewidth": 0,
             "ticks": ""
            },
            "colorscale": [
             [
              0,
              "#0d0887"
             ],
             [
              0.1111111111111111,
              "#46039f"
             ],
             [
              0.2222222222222222,
              "#7201a8"
             ],
             [
              0.3333333333333333,
              "#9c179e"
             ],
             [
              0.4444444444444444,
              "#bd3786"
             ],
             [
              0.5555555555555556,
              "#d8576b"
             ],
             [
              0.6666666666666666,
              "#ed7953"
             ],
             [
              0.7777777777777778,
              "#fb9f3a"
             ],
             [
              0.8888888888888888,
              "#fdca26"
             ],
             [
              1,
              "#f0f921"
             ]
            ],
            "type": "heatmap"
           }
          ],
          "histogram": [
           {
            "marker": {
             "pattern": {
              "fillmode": "overlay",
              "size": 10,
              "solidity": 0.2
             }
            },
            "type": "histogram"
           }
          ],
          "histogram2d": [
           {
            "colorbar": {
             "outlinewidth": 0,
             "ticks": ""
            },
            "colorscale": [
             [
              0,
              "#0d0887"
             ],
             [
              0.1111111111111111,
              "#46039f"
             ],
             [
              0.2222222222222222,
              "#7201a8"
             ],
             [
              0.3333333333333333,
              "#9c179e"
             ],
             [
              0.4444444444444444,
              "#bd3786"
             ],
             [
              0.5555555555555556,
              "#d8576b"
             ],
             [
              0.6666666666666666,
              "#ed7953"
             ],
             [
              0.7777777777777778,
              "#fb9f3a"
             ],
             [
              0.8888888888888888,
              "#fdca26"
             ],
             [
              1,
              "#f0f921"
             ]
            ],
            "type": "histogram2d"
           }
          ],
          "histogram2dcontour": [
           {
            "colorbar": {
             "outlinewidth": 0,
             "ticks": ""
            },
            "colorscale": [
             [
              0,
              "#0d0887"
             ],
             [
              0.1111111111111111,
              "#46039f"
             ],
             [
              0.2222222222222222,
              "#7201a8"
             ],
             [
              0.3333333333333333,
              "#9c179e"
             ],
             [
              0.4444444444444444,
              "#bd3786"
             ],
             [
              0.5555555555555556,
              "#d8576b"
             ],
             [
              0.6666666666666666,
              "#ed7953"
             ],
             [
              0.7777777777777778,
              "#fb9f3a"
             ],
             [
              0.8888888888888888,
              "#fdca26"
             ],
             [
              1,
              "#f0f921"
             ]
            ],
            "type": "histogram2dcontour"
           }
          ],
          "mesh3d": [
           {
            "colorbar": {
             "outlinewidth": 0,
             "ticks": ""
            },
            "type": "mesh3d"
           }
          ],
          "parcoords": [
           {
            "line": {
             "colorbar": {
              "outlinewidth": 0,
              "ticks": ""
             }
            },
            "type": "parcoords"
           }
          ],
          "pie": [
           {
            "automargin": true,
            "type": "pie"
           }
          ],
          "scatter": [
           {
            "fillpattern": {
             "fillmode": "overlay",
             "size": 10,
             "solidity": 0.2
            },
            "type": "scatter"
           }
          ],
          "scatter3d": [
           {
            "line": {
             "colorbar": {
              "outlinewidth": 0,
              "ticks": ""
             }
            },
            "marker": {
             "colorbar": {
              "outlinewidth": 0,
              "ticks": ""
             }
            },
            "type": "scatter3d"
           }
          ],
          "scattercarpet": [
           {
            "marker": {
             "colorbar": {
              "outlinewidth": 0,
              "ticks": ""
             }
            },
            "type": "scattercarpet"
           }
          ],
          "scattergeo": [
           {
            "marker": {
             "colorbar": {
              "outlinewidth": 0,
              "ticks": ""
             }
            },
            "type": "scattergeo"
           }
          ],
          "scattergl": [
           {
            "marker": {
             "colorbar": {
              "outlinewidth": 0,
              "ticks": ""
             }
            },
            "type": "scattergl"
           }
          ],
          "scattermap": [
           {
            "marker": {
             "colorbar": {
              "outlinewidth": 0,
              "ticks": ""
             }
            },
            "type": "scattermap"
           }
          ],
          "scattermapbox": [
           {
            "marker": {
             "colorbar": {
              "outlinewidth": 0,
              "ticks": ""
             }
            },
            "type": "scattermapbox"
           }
          ],
          "scatterpolar": [
           {
            "marker": {
             "colorbar": {
              "outlinewidth": 0,
              "ticks": ""
             }
            },
            "type": "scatterpolar"
           }
          ],
          "scatterpolargl": [
           {
            "marker": {
             "colorbar": {
              "outlinewidth": 0,
              "ticks": ""
             }
            },
            "type": "scatterpolargl"
           }
          ],
          "scatterternary": [
           {
            "marker": {
             "colorbar": {
              "outlinewidth": 0,
              "ticks": ""
             }
            },
            "type": "scatterternary"
           }
          ],
          "surface": [
           {
            "colorbar": {
             "outlinewidth": 0,
             "ticks": ""
            },
            "colorscale": [
             [
              0,
              "#0d0887"
             ],
             [
              0.1111111111111111,
              "#46039f"
             ],
             [
              0.2222222222222222,
              "#7201a8"
             ],
             [
              0.3333333333333333,
              "#9c179e"
             ],
             [
              0.4444444444444444,
              "#bd3786"
             ],
             [
              0.5555555555555556,
              "#d8576b"
             ],
             [
              0.6666666666666666,
              "#ed7953"
             ],
             [
              0.7777777777777778,
              "#fb9f3a"
             ],
             [
              0.8888888888888888,
              "#fdca26"
             ],
             [
              1,
              "#f0f921"
             ]
            ],
            "type": "surface"
           }
          ],
          "table": [
           {
            "cells": {
             "fill": {
              "color": "#EBF0F8"
             },
             "line": {
              "color": "white"
             }
            },
            "header": {
             "fill": {
              "color": "#C8D4E3"
             },
             "line": {
              "color": "white"
             }
            },
            "type": "table"
           }
          ]
         },
         "layout": {
          "annotationdefaults": {
           "arrowcolor": "#2a3f5f",
           "arrowhead": 0,
           "arrowwidth": 1
          },
          "autotypenumbers": "strict",
          "coloraxis": {
           "colorbar": {
            "outlinewidth": 0,
            "ticks": ""
           }
          },
          "colorscale": {
           "diverging": [
            [
             0,
             "#8e0152"
            ],
            [
             0.1,
             "#c51b7d"
            ],
            [
             0.2,
             "#de77ae"
            ],
            [
             0.3,
             "#f1b6da"
            ],
            [
             0.4,
             "#fde0ef"
            ],
            [
             0.5,
             "#f7f7f7"
            ],
            [
             0.6,
             "#e6f5d0"
            ],
            [
             0.7,
             "#b8e186"
            ],
            [
             0.8,
             "#7fbc41"
            ],
            [
             0.9,
             "#4d9221"
            ],
            [
             1,
             "#276419"
            ]
           ],
           "sequential": [
            [
             0,
             "#0d0887"
            ],
            [
             0.1111111111111111,
             "#46039f"
            ],
            [
             0.2222222222222222,
             "#7201a8"
            ],
            [
             0.3333333333333333,
             "#9c179e"
            ],
            [
             0.4444444444444444,
             "#bd3786"
            ],
            [
             0.5555555555555556,
             "#d8576b"
            ],
            [
             0.6666666666666666,
             "#ed7953"
            ],
            [
             0.7777777777777778,
             "#fb9f3a"
            ],
            [
             0.8888888888888888,
             "#fdca26"
            ],
            [
             1,
             "#f0f921"
            ]
           ],
           "sequentialminus": [
            [
             0,
             "#0d0887"
            ],
            [
             0.1111111111111111,
             "#46039f"
            ],
            [
             0.2222222222222222,
             "#7201a8"
            ],
            [
             0.3333333333333333,
             "#9c179e"
            ],
            [
             0.4444444444444444,
             "#bd3786"
            ],
            [
             0.5555555555555556,
             "#d8576b"
            ],
            [
             0.6666666666666666,
             "#ed7953"
            ],
            [
             0.7777777777777778,
             "#fb9f3a"
            ],
            [
             0.8888888888888888,
             "#fdca26"
            ],
            [
             1,
             "#f0f921"
            ]
           ]
          },
          "colorway": [
           "#636efa",
           "#EF553B",
           "#00cc96",
           "#ab63fa",
           "#FFA15A",
           "#19d3f3",
           "#FF6692",
           "#B6E880",
           "#FF97FF",
           "#FECB52"
          ],
          "font": {
           "color": "#2a3f5f"
          },
          "geo": {
           "bgcolor": "white",
           "lakecolor": "white",
           "landcolor": "#E5ECF6",
           "showlakes": true,
           "showland": true,
           "subunitcolor": "white"
          },
          "hoverlabel": {
           "align": "left"
          },
          "hovermode": "closest",
          "mapbox": {
           "style": "light"
          },
          "paper_bgcolor": "white",
          "plot_bgcolor": "#E5ECF6",
          "polar": {
           "angularaxis": {
            "gridcolor": "white",
            "linecolor": "white",
            "ticks": ""
           },
           "bgcolor": "#E5ECF6",
           "radialaxis": {
            "gridcolor": "white",
            "linecolor": "white",
            "ticks": ""
           }
          },
          "scene": {
           "xaxis": {
            "backgroundcolor": "#E5ECF6",
            "gridcolor": "white",
            "gridwidth": 2,
            "linecolor": "white",
            "showbackground": true,
            "ticks": "",
            "zerolinecolor": "white"
           },
           "yaxis": {
            "backgroundcolor": "#E5ECF6",
            "gridcolor": "white",
            "gridwidth": 2,
            "linecolor": "white",
            "showbackground": true,
            "ticks": "",
            "zerolinecolor": "white"
           },
           "zaxis": {
            "backgroundcolor": "#E5ECF6",
            "gridcolor": "white",
            "gridwidth": 2,
            "linecolor": "white",
            "showbackground": true,
            "ticks": "",
            "zerolinecolor": "white"
           }
          },
          "shapedefaults": {
           "line": {
            "color": "#2a3f5f"
           }
          },
          "ternary": {
           "aaxis": {
            "gridcolor": "white",
            "linecolor": "white",
            "ticks": ""
           },
           "baxis": {
            "gridcolor": "white",
            "linecolor": "white",
            "ticks": ""
           },
           "bgcolor": "#E5ECF6",
           "caxis": {
            "gridcolor": "white",
            "linecolor": "white",
            "ticks": ""
           }
          },
          "title": {
           "x": 0.05
          },
          "xaxis": {
           "automargin": true,
           "gridcolor": "white",
           "linecolor": "white",
           "ticks": "",
           "title": {
            "standoff": 15
           },
           "zerolinecolor": "white",
           "zerolinewidth": 2
          },
          "yaxis": {
           "automargin": true,
           "gridcolor": "white",
           "linecolor": "white",
           "ticks": "",
           "title": {
            "standoff": 15
           },
           "zerolinecolor": "white",
           "zerolinewidth": 2
          }
         }
        },
        "title": {
         "text": "Métricas de Cantidad Vendida"
        },
        "uniformtext": {
         "minsize": 8,
         "mode": "hide"
        },
        "xaxis": {
         "title": {
          "text": "Item Code: 102900005117056"
         }
        },
        "yaxis": {
         "dtick": 0.5,
         "title": {
          "text": "Cantidad (kilo)"
         }
        }
       }
      }
     },
     "metadata": {},
     "output_type": "display_data"
    },
    {
     "name": "stdout",
     "output_type": "stream",
     "text": [
      "Item Code: 102900005117056\n",
      "Mínimo de Kilo : 0.092\n",
      "Máximo de Kilo : 1.082\n",
      "Promedio de Kilo : 0.398\n",
      "Moda de Kilo : 0.356\n"
     ]
    }
   ],
   "source": [
    "# Supongamos que tienes tu DataFrame llamado df_most7_frequent_sales_day1\n",
    "# y la columna 'Quantity Sold (kilo)' contiene valores float\n",
    "\n",
    "# Extraer datos y calcular métricas\n",
    "quantity_sold = df_most7_frequent_sales_day1['Quantity Sold (kilo)']\n",
    "item_code_unico = df_most7_frequent_sales_day1['Item Code'].iloc[0] if not df_most7_frequent_sales_day1.empty else \"N/A\"\n",
    "\n",
    "minimum_qty = quantity_sold.min()\n",
    "maximum_qty = quantity_sold.max()\n",
    "average_qty = quantity_sold.mean()\n",
    "mode_counts = Counter(quantity_sold).most_common()\n",
    "mode_qty = mode_counts[0][0] if mode_counts else None\n",
    "\n",
    "metrics_names = ['Mínimo', 'Máximo', 'Promedio', 'Moda']\n",
    "metrics_values = [minimum_qty, maximum_qty, average_qty, mode_qty]\n",
    "\n",
    "# Crear la figura de Plotly\n",
    "fig = go.Figure(data=[go.Bar(\n",
    "    name='Cantidad (kilo)',\n",
    "    x=metrics_names,\n",
    "    y=metrics_values,\n",
    "    marker_color=['skyblue', 'salmon', 'lightgreen', 'gold'],\n",
    "    text=[f'{v:.3f}' if isinstance(v, (int, float)) else str(v) for v in metrics_values],\n",
    "    textposition='outside'\n",
    ")])\n",
    "\n",
    "# Personalizar diseño\n",
    "fig.update_layout(\n",
    "    title='Métricas de Cantidad Vendida',\n",
    "    xaxis_title=f'Item Code: {item_code_unico}',\n",
    "    yaxis_title='Cantidad (kilo)',\n",
    "    yaxis=dict(dtick=0.5),\n",
    "    uniformtext_minsize=8,\n",
    "    uniformtext_mode='hide'\n",
    ")\n",
    "\n",
    "# Mostrar figura\n",
    "fig.show()\n",
    "\n",
    "# Mostrar métricas por consola\n",
    "print(f\"Item Code: {item_code_unico}\")\n",
    "print(f\"Mínimo de Kilo : {minimum_qty:.3f}\")\n",
    "print(f\"Máximo de Kilo : {maximum_qty:.3f}\")\n",
    "print(f\"Promedio de Kilo : {average_qty:.3f}\")\n",
    "print(f\"Moda de Kilo : {mode_qty:.3f}\")"
   ]
  },
  {
   "cell_type": "markdown",
   "id": "c2305337",
   "metadata": {},
   "source": [
    "## COMPRAR REGRESADAS SI-NO"
   ]
  },
  {
   "cell_type": "code",
   "execution_count": 27,
   "id": "8afac13a",
   "metadata": {},
   "outputs": [
    {
     "data": {
      "text/plain": [
       "array([1, 0])"
      ]
     },
     "execution_count": 27,
     "metadata": {},
     "output_type": "execute_result"
    }
   ],
   "source": [
    "df2['Sale or Return'].unique()"
   ]
  },
  {
   "cell_type": "code",
   "execution_count": 28,
   "id": "bad1b8b2",
   "metadata": {},
   "outputs": [
    {
     "name": "stdout",
     "output_type": "stream",
     "text": [
      "<class 'pandas.core.frame.DataFrame'>\n",
      "Index: 137 entries, 0 to 1000\n",
      "Data columns (total 9 columns):\n",
      " #   Column                       Non-Null Count  Dtype  \n",
      "---  ------                       --------------  -----  \n",
      " 0   Item Code                    137 non-null    int64  \n",
      " 1   Quantity Sold (kilo)         137 non-null    float64\n",
      " 2   Unit Selling Price (RMB/kg)  137 non-null    float64\n",
      " 3   Sale or Return               137 non-null    int64  \n",
      " 4   Discount (Yes/No)            137 non-null    int64  \n",
      " 5   Year Sale                    137 non-null    int32  \n",
      " 6   Month Sale                   137 non-null    int32  \n",
      " 7   Day Sale                     137 non-null    int32  \n",
      " 8   Time                         137 non-null    object \n",
      "dtypes: float64(2), int32(3), int64(3), object(1)\n",
      "memory usage: 9.1+ KB\n"
     ]
    }
   ],
   "source": [
    "df_most7_frequent_sales_day1.info()"
   ]
  },
  {
   "cell_type": "markdown",
   "id": "44f37ec7",
   "metadata": {},
   "source": [
    "## aplicacion de Comprar retornadas indiviludad, luego grupal"
   ]
  },
  {
   "cell_type": "code",
   "execution_count": 29,
   "id": "2b1395be",
   "metadata": {},
   "outputs": [
    {
     "data": {
      "application/vnd.plotly.v1+json": {
       "config": {
        "plotlyServerURL": "https://plot.ly"
       },
       "data": [
        {
         "insidetextorientation": "radial",
         "labels": [
          "Venta",
          "Devolución"
         ],
         "marker": {
          "colors": [
           "skyblue",
           "gold"
          ]
         },
         "textinfo": "label+percent+value",
         "type": "pie",
         "values": [
          137,
          0
         ]
        }
       ],
       "layout": {
        "template": {
         "data": {
          "bar": [
           {
            "error_x": {
             "color": "#2a3f5f"
            },
            "error_y": {
             "color": "#2a3f5f"
            },
            "marker": {
             "line": {
              "color": "#E5ECF6",
              "width": 0.5
             },
             "pattern": {
              "fillmode": "overlay",
              "size": 10,
              "solidity": 0.2
             }
            },
            "type": "bar"
           }
          ],
          "barpolar": [
           {
            "marker": {
             "line": {
              "color": "#E5ECF6",
              "width": 0.5
             },
             "pattern": {
              "fillmode": "overlay",
              "size": 10,
              "solidity": 0.2
             }
            },
            "type": "barpolar"
           }
          ],
          "carpet": [
           {
            "aaxis": {
             "endlinecolor": "#2a3f5f",
             "gridcolor": "white",
             "linecolor": "white",
             "minorgridcolor": "white",
             "startlinecolor": "#2a3f5f"
            },
            "baxis": {
             "endlinecolor": "#2a3f5f",
             "gridcolor": "white",
             "linecolor": "white",
             "minorgridcolor": "white",
             "startlinecolor": "#2a3f5f"
            },
            "type": "carpet"
           }
          ],
          "choropleth": [
           {
            "colorbar": {
             "outlinewidth": 0,
             "ticks": ""
            },
            "type": "choropleth"
           }
          ],
          "contour": [
           {
            "colorbar": {
             "outlinewidth": 0,
             "ticks": ""
            },
            "colorscale": [
             [
              0,
              "#0d0887"
             ],
             [
              0.1111111111111111,
              "#46039f"
             ],
             [
              0.2222222222222222,
              "#7201a8"
             ],
             [
              0.3333333333333333,
              "#9c179e"
             ],
             [
              0.4444444444444444,
              "#bd3786"
             ],
             [
              0.5555555555555556,
              "#d8576b"
             ],
             [
              0.6666666666666666,
              "#ed7953"
             ],
             [
              0.7777777777777778,
              "#fb9f3a"
             ],
             [
              0.8888888888888888,
              "#fdca26"
             ],
             [
              1,
              "#f0f921"
             ]
            ],
            "type": "contour"
           }
          ],
          "contourcarpet": [
           {
            "colorbar": {
             "outlinewidth": 0,
             "ticks": ""
            },
            "type": "contourcarpet"
           }
          ],
          "heatmap": [
           {
            "colorbar": {
             "outlinewidth": 0,
             "ticks": ""
            },
            "colorscale": [
             [
              0,
              "#0d0887"
             ],
             [
              0.1111111111111111,
              "#46039f"
             ],
             [
              0.2222222222222222,
              "#7201a8"
             ],
             [
              0.3333333333333333,
              "#9c179e"
             ],
             [
              0.4444444444444444,
              "#bd3786"
             ],
             [
              0.5555555555555556,
              "#d8576b"
             ],
             [
              0.6666666666666666,
              "#ed7953"
             ],
             [
              0.7777777777777778,
              "#fb9f3a"
             ],
             [
              0.8888888888888888,
              "#fdca26"
             ],
             [
              1,
              "#f0f921"
             ]
            ],
            "type": "heatmap"
           }
          ],
          "histogram": [
           {
            "marker": {
             "pattern": {
              "fillmode": "overlay",
              "size": 10,
              "solidity": 0.2
             }
            },
            "type": "histogram"
           }
          ],
          "histogram2d": [
           {
            "colorbar": {
             "outlinewidth": 0,
             "ticks": ""
            },
            "colorscale": [
             [
              0,
              "#0d0887"
             ],
             [
              0.1111111111111111,
              "#46039f"
             ],
             [
              0.2222222222222222,
              "#7201a8"
             ],
             [
              0.3333333333333333,
              "#9c179e"
             ],
             [
              0.4444444444444444,
              "#bd3786"
             ],
             [
              0.5555555555555556,
              "#d8576b"
             ],
             [
              0.6666666666666666,
              "#ed7953"
             ],
             [
              0.7777777777777778,
              "#fb9f3a"
             ],
             [
              0.8888888888888888,
              "#fdca26"
             ],
             [
              1,
              "#f0f921"
             ]
            ],
            "type": "histogram2d"
           }
          ],
          "histogram2dcontour": [
           {
            "colorbar": {
             "outlinewidth": 0,
             "ticks": ""
            },
            "colorscale": [
             [
              0,
              "#0d0887"
             ],
             [
              0.1111111111111111,
              "#46039f"
             ],
             [
              0.2222222222222222,
              "#7201a8"
             ],
             [
              0.3333333333333333,
              "#9c179e"
             ],
             [
              0.4444444444444444,
              "#bd3786"
             ],
             [
              0.5555555555555556,
              "#d8576b"
             ],
             [
              0.6666666666666666,
              "#ed7953"
             ],
             [
              0.7777777777777778,
              "#fb9f3a"
             ],
             [
              0.8888888888888888,
              "#fdca26"
             ],
             [
              1,
              "#f0f921"
             ]
            ],
            "type": "histogram2dcontour"
           }
          ],
          "mesh3d": [
           {
            "colorbar": {
             "outlinewidth": 0,
             "ticks": ""
            },
            "type": "mesh3d"
           }
          ],
          "parcoords": [
           {
            "line": {
             "colorbar": {
              "outlinewidth": 0,
              "ticks": ""
             }
            },
            "type": "parcoords"
           }
          ],
          "pie": [
           {
            "automargin": true,
            "type": "pie"
           }
          ],
          "scatter": [
           {
            "fillpattern": {
             "fillmode": "overlay",
             "size": 10,
             "solidity": 0.2
            },
            "type": "scatter"
           }
          ],
          "scatter3d": [
           {
            "line": {
             "colorbar": {
              "outlinewidth": 0,
              "ticks": ""
             }
            },
            "marker": {
             "colorbar": {
              "outlinewidth": 0,
              "ticks": ""
             }
            },
            "type": "scatter3d"
           }
          ],
          "scattercarpet": [
           {
            "marker": {
             "colorbar": {
              "outlinewidth": 0,
              "ticks": ""
             }
            },
            "type": "scattercarpet"
           }
          ],
          "scattergeo": [
           {
            "marker": {
             "colorbar": {
              "outlinewidth": 0,
              "ticks": ""
             }
            },
            "type": "scattergeo"
           }
          ],
          "scattergl": [
           {
            "marker": {
             "colorbar": {
              "outlinewidth": 0,
              "ticks": ""
             }
            },
            "type": "scattergl"
           }
          ],
          "scattermap": [
           {
            "marker": {
             "colorbar": {
              "outlinewidth": 0,
              "ticks": ""
             }
            },
            "type": "scattermap"
           }
          ],
          "scattermapbox": [
           {
            "marker": {
             "colorbar": {
              "outlinewidth": 0,
              "ticks": ""
             }
            },
            "type": "scattermapbox"
           }
          ],
          "scatterpolar": [
           {
            "marker": {
             "colorbar": {
              "outlinewidth": 0,
              "ticks": ""
             }
            },
            "type": "scatterpolar"
           }
          ],
          "scatterpolargl": [
           {
            "marker": {
             "colorbar": {
              "outlinewidth": 0,
              "ticks": ""
             }
            },
            "type": "scatterpolargl"
           }
          ],
          "scatterternary": [
           {
            "marker": {
             "colorbar": {
              "outlinewidth": 0,
              "ticks": ""
             }
            },
            "type": "scatterternary"
           }
          ],
          "surface": [
           {
            "colorbar": {
             "outlinewidth": 0,
             "ticks": ""
            },
            "colorscale": [
             [
              0,
              "#0d0887"
             ],
             [
              0.1111111111111111,
              "#46039f"
             ],
             [
              0.2222222222222222,
              "#7201a8"
             ],
             [
              0.3333333333333333,
              "#9c179e"
             ],
             [
              0.4444444444444444,
              "#bd3786"
             ],
             [
              0.5555555555555556,
              "#d8576b"
             ],
             [
              0.6666666666666666,
              "#ed7953"
             ],
             [
              0.7777777777777778,
              "#fb9f3a"
             ],
             [
              0.8888888888888888,
              "#fdca26"
             ],
             [
              1,
              "#f0f921"
             ]
            ],
            "type": "surface"
           }
          ],
          "table": [
           {
            "cells": {
             "fill": {
              "color": "#EBF0F8"
             },
             "line": {
              "color": "white"
             }
            },
            "header": {
             "fill": {
              "color": "#C8D4E3"
             },
             "line": {
              "color": "white"
             }
            },
            "type": "table"
           }
          ]
         },
         "layout": {
          "annotationdefaults": {
           "arrowcolor": "#2a3f5f",
           "arrowhead": 0,
           "arrowwidth": 1
          },
          "autotypenumbers": "strict",
          "coloraxis": {
           "colorbar": {
            "outlinewidth": 0,
            "ticks": ""
           }
          },
          "colorscale": {
           "diverging": [
            [
             0,
             "#8e0152"
            ],
            [
             0.1,
             "#c51b7d"
            ],
            [
             0.2,
             "#de77ae"
            ],
            [
             0.3,
             "#f1b6da"
            ],
            [
             0.4,
             "#fde0ef"
            ],
            [
             0.5,
             "#f7f7f7"
            ],
            [
             0.6,
             "#e6f5d0"
            ],
            [
             0.7,
             "#b8e186"
            ],
            [
             0.8,
             "#7fbc41"
            ],
            [
             0.9,
             "#4d9221"
            ],
            [
             1,
             "#276419"
            ]
           ],
           "sequential": [
            [
             0,
             "#0d0887"
            ],
            [
             0.1111111111111111,
             "#46039f"
            ],
            [
             0.2222222222222222,
             "#7201a8"
            ],
            [
             0.3333333333333333,
             "#9c179e"
            ],
            [
             0.4444444444444444,
             "#bd3786"
            ],
            [
             0.5555555555555556,
             "#d8576b"
            ],
            [
             0.6666666666666666,
             "#ed7953"
            ],
            [
             0.7777777777777778,
             "#fb9f3a"
            ],
            [
             0.8888888888888888,
             "#fdca26"
            ],
            [
             1,
             "#f0f921"
            ]
           ],
           "sequentialminus": [
            [
             0,
             "#0d0887"
            ],
            [
             0.1111111111111111,
             "#46039f"
            ],
            [
             0.2222222222222222,
             "#7201a8"
            ],
            [
             0.3333333333333333,
             "#9c179e"
            ],
            [
             0.4444444444444444,
             "#bd3786"
            ],
            [
             0.5555555555555556,
             "#d8576b"
            ],
            [
             0.6666666666666666,
             "#ed7953"
            ],
            [
             0.7777777777777778,
             "#fb9f3a"
            ],
            [
             0.8888888888888888,
             "#fdca26"
            ],
            [
             1,
             "#f0f921"
            ]
           ]
          },
          "colorway": [
           "#636efa",
           "#EF553B",
           "#00cc96",
           "#ab63fa",
           "#FFA15A",
           "#19d3f3",
           "#FF6692",
           "#B6E880",
           "#FF97FF",
           "#FECB52"
          ],
          "font": {
           "color": "#2a3f5f"
          },
          "geo": {
           "bgcolor": "white",
           "lakecolor": "white",
           "landcolor": "#E5ECF6",
           "showlakes": true,
           "showland": true,
           "subunitcolor": "white"
          },
          "hoverlabel": {
           "align": "left"
          },
          "hovermode": "closest",
          "mapbox": {
           "style": "light"
          },
          "paper_bgcolor": "white",
          "plot_bgcolor": "#E5ECF6",
          "polar": {
           "angularaxis": {
            "gridcolor": "white",
            "linecolor": "white",
            "ticks": ""
           },
           "bgcolor": "#E5ECF6",
           "radialaxis": {
            "gridcolor": "white",
            "linecolor": "white",
            "ticks": ""
           }
          },
          "scene": {
           "xaxis": {
            "backgroundcolor": "#E5ECF6",
            "gridcolor": "white",
            "gridwidth": 2,
            "linecolor": "white",
            "showbackground": true,
            "ticks": "",
            "zerolinecolor": "white"
           },
           "yaxis": {
            "backgroundcolor": "#E5ECF6",
            "gridcolor": "white",
            "gridwidth": 2,
            "linecolor": "white",
            "showbackground": true,
            "ticks": "",
            "zerolinecolor": "white"
           },
           "zaxis": {
            "backgroundcolor": "#E5ECF6",
            "gridcolor": "white",
            "gridwidth": 2,
            "linecolor": "white",
            "showbackground": true,
            "ticks": "",
            "zerolinecolor": "white"
           }
          },
          "shapedefaults": {
           "line": {
            "color": "#2a3f5f"
           }
          },
          "ternary": {
           "aaxis": {
            "gridcolor": "white",
            "linecolor": "white",
            "ticks": ""
           },
           "baxis": {
            "gridcolor": "white",
            "linecolor": "white",
            "ticks": ""
           },
           "bgcolor": "#E5ECF6",
           "caxis": {
            "gridcolor": "white",
            "linecolor": "white",
            "ticks": ""
           }
          },
          "title": {
           "x": 0.05
          },
          "xaxis": {
           "automargin": true,
           "gridcolor": "white",
           "linecolor": "white",
           "ticks": "",
           "title": {
            "standoff": 15
           },
           "zerolinecolor": "white",
           "zerolinewidth": 2
          },
          "yaxis": {
           "automargin": true,
           "gridcolor": "white",
           "linecolor": "white",
           "ticks": "",
           "title": {
            "standoff": 15
           },
           "zerolinecolor": "white",
           "zerolinewidth": 2
          }
         }
        },
        "title": {
         "text": "Devolución de Ventas - Item Code: 102900005117056"
        },
        "uniformtext": {
         "minsize": 8,
         "mode": "hide"
        }
       }
      }
     },
     "metadata": {},
     "output_type": "display_data"
    }
   ],
   "source": [
    "# Contar ventas y devoluciones\n",
    "sale_return_counts = df_most7_frequent_sales_day1['Sale or Return'].value_counts()\n",
    "sale = sale_return_counts.get(1, 0)  # Número de ventas\n",
    "returnn = sale_return_counts.get(0, 0)  # Número de devoluciones\n",
    "\n",
    "# Obtener el código del ítem más frecuente (o \"N/A\" si está vacío)\n",
    "return_item_code_unico = df_most7_frequent_sales_day1['Item Code'].iloc[0] if not df_most7_frequent_sales_day1.empty else \"N/A\"\n",
    "\n",
    "# Crear gráfico de pastel\n",
    "fig = go.Figure(data=[go.Pie(\n",
    "    labels=['Venta', 'Devolución'],\n",
    "    values=[sale, returnn],\n",
    "    marker=dict(colors=['skyblue', 'gold']),\n",
    "    textinfo='label+percent+value',\n",
    "    insidetextorientation='radial'\n",
    ")])\n",
    "\n",
    "# Personalizar diseño\n",
    "fig.update_layout(\n",
    "    title=f'Devolución de Ventas - Item Code: {return_item_code_unico}',\n",
    "    uniformtext_minsize=8,\n",
    "    uniformtext_mode='hide'\n",
    ")\n",
    "\n",
    "# Mostrar gráfico\n",
    "fig.show()"
   ]
  },
  {
   "cell_type": "markdown",
   "id": "fc1df0b6",
   "metadata": {},
   "source": [
    "## Graficas de pastel indivual para ver valores aplicados de descuentos a los items"
   ]
  },
  {
   "cell_type": "code",
   "execution_count": 30,
   "id": "a7d21f7a",
   "metadata": {},
   "outputs": [
    {
     "data": {
      "application/vnd.plotly.v1+json": {
       "config": {
        "plotlyServerURL": "https://plot.ly"
       },
       "data": [
        {
         "insidetextorientation": "radial",
         "labels": [
          "Descuentos -SI-",
          "Descuentos -NO-"
         ],
         "marker": {
          "colors": [
           "skyblue",
           "gold"
          ]
         },
         "textinfo": "label+percent+value",
         "type": "pie",
         "values": [
          0,
          137
         ]
        }
       ],
       "layout": {
        "template": {
         "data": {
          "bar": [
           {
            "error_x": {
             "color": "#2a3f5f"
            },
            "error_y": {
             "color": "#2a3f5f"
            },
            "marker": {
             "line": {
              "color": "#E5ECF6",
              "width": 0.5
             },
             "pattern": {
              "fillmode": "overlay",
              "size": 10,
              "solidity": 0.2
             }
            },
            "type": "bar"
           }
          ],
          "barpolar": [
           {
            "marker": {
             "line": {
              "color": "#E5ECF6",
              "width": 0.5
             },
             "pattern": {
              "fillmode": "overlay",
              "size": 10,
              "solidity": 0.2
             }
            },
            "type": "barpolar"
           }
          ],
          "carpet": [
           {
            "aaxis": {
             "endlinecolor": "#2a3f5f",
             "gridcolor": "white",
             "linecolor": "white",
             "minorgridcolor": "white",
             "startlinecolor": "#2a3f5f"
            },
            "baxis": {
             "endlinecolor": "#2a3f5f",
             "gridcolor": "white",
             "linecolor": "white",
             "minorgridcolor": "white",
             "startlinecolor": "#2a3f5f"
            },
            "type": "carpet"
           }
          ],
          "choropleth": [
           {
            "colorbar": {
             "outlinewidth": 0,
             "ticks": ""
            },
            "type": "choropleth"
           }
          ],
          "contour": [
           {
            "colorbar": {
             "outlinewidth": 0,
             "ticks": ""
            },
            "colorscale": [
             [
              0,
              "#0d0887"
             ],
             [
              0.1111111111111111,
              "#46039f"
             ],
             [
              0.2222222222222222,
              "#7201a8"
             ],
             [
              0.3333333333333333,
              "#9c179e"
             ],
             [
              0.4444444444444444,
              "#bd3786"
             ],
             [
              0.5555555555555556,
              "#d8576b"
             ],
             [
              0.6666666666666666,
              "#ed7953"
             ],
             [
              0.7777777777777778,
              "#fb9f3a"
             ],
             [
              0.8888888888888888,
              "#fdca26"
             ],
             [
              1,
              "#f0f921"
             ]
            ],
            "type": "contour"
           }
          ],
          "contourcarpet": [
           {
            "colorbar": {
             "outlinewidth": 0,
             "ticks": ""
            },
            "type": "contourcarpet"
           }
          ],
          "heatmap": [
           {
            "colorbar": {
             "outlinewidth": 0,
             "ticks": ""
            },
            "colorscale": [
             [
              0,
              "#0d0887"
             ],
             [
              0.1111111111111111,
              "#46039f"
             ],
             [
              0.2222222222222222,
              "#7201a8"
             ],
             [
              0.3333333333333333,
              "#9c179e"
             ],
             [
              0.4444444444444444,
              "#bd3786"
             ],
             [
              0.5555555555555556,
              "#d8576b"
             ],
             [
              0.6666666666666666,
              "#ed7953"
             ],
             [
              0.7777777777777778,
              "#fb9f3a"
             ],
             [
              0.8888888888888888,
              "#fdca26"
             ],
             [
              1,
              "#f0f921"
             ]
            ],
            "type": "heatmap"
           }
          ],
          "histogram": [
           {
            "marker": {
             "pattern": {
              "fillmode": "overlay",
              "size": 10,
              "solidity": 0.2
             }
            },
            "type": "histogram"
           }
          ],
          "histogram2d": [
           {
            "colorbar": {
             "outlinewidth": 0,
             "ticks": ""
            },
            "colorscale": [
             [
              0,
              "#0d0887"
             ],
             [
              0.1111111111111111,
              "#46039f"
             ],
             [
              0.2222222222222222,
              "#7201a8"
             ],
             [
              0.3333333333333333,
              "#9c179e"
             ],
             [
              0.4444444444444444,
              "#bd3786"
             ],
             [
              0.5555555555555556,
              "#d8576b"
             ],
             [
              0.6666666666666666,
              "#ed7953"
             ],
             [
              0.7777777777777778,
              "#fb9f3a"
             ],
             [
              0.8888888888888888,
              "#fdca26"
             ],
             [
              1,
              "#f0f921"
             ]
            ],
            "type": "histogram2d"
           }
          ],
          "histogram2dcontour": [
           {
            "colorbar": {
             "outlinewidth": 0,
             "ticks": ""
            },
            "colorscale": [
             [
              0,
              "#0d0887"
             ],
             [
              0.1111111111111111,
              "#46039f"
             ],
             [
              0.2222222222222222,
              "#7201a8"
             ],
             [
              0.3333333333333333,
              "#9c179e"
             ],
             [
              0.4444444444444444,
              "#bd3786"
             ],
             [
              0.5555555555555556,
              "#d8576b"
             ],
             [
              0.6666666666666666,
              "#ed7953"
             ],
             [
              0.7777777777777778,
              "#fb9f3a"
             ],
             [
              0.8888888888888888,
              "#fdca26"
             ],
             [
              1,
              "#f0f921"
             ]
            ],
            "type": "histogram2dcontour"
           }
          ],
          "mesh3d": [
           {
            "colorbar": {
             "outlinewidth": 0,
             "ticks": ""
            },
            "type": "mesh3d"
           }
          ],
          "parcoords": [
           {
            "line": {
             "colorbar": {
              "outlinewidth": 0,
              "ticks": ""
             }
            },
            "type": "parcoords"
           }
          ],
          "pie": [
           {
            "automargin": true,
            "type": "pie"
           }
          ],
          "scatter": [
           {
            "fillpattern": {
             "fillmode": "overlay",
             "size": 10,
             "solidity": 0.2
            },
            "type": "scatter"
           }
          ],
          "scatter3d": [
           {
            "line": {
             "colorbar": {
              "outlinewidth": 0,
              "ticks": ""
             }
            },
            "marker": {
             "colorbar": {
              "outlinewidth": 0,
              "ticks": ""
             }
            },
            "type": "scatter3d"
           }
          ],
          "scattercarpet": [
           {
            "marker": {
             "colorbar": {
              "outlinewidth": 0,
              "ticks": ""
             }
            },
            "type": "scattercarpet"
           }
          ],
          "scattergeo": [
           {
            "marker": {
             "colorbar": {
              "outlinewidth": 0,
              "ticks": ""
             }
            },
            "type": "scattergeo"
           }
          ],
          "scattergl": [
           {
            "marker": {
             "colorbar": {
              "outlinewidth": 0,
              "ticks": ""
             }
            },
            "type": "scattergl"
           }
          ],
          "scattermap": [
           {
            "marker": {
             "colorbar": {
              "outlinewidth": 0,
              "ticks": ""
             }
            },
            "type": "scattermap"
           }
          ],
          "scattermapbox": [
           {
            "marker": {
             "colorbar": {
              "outlinewidth": 0,
              "ticks": ""
             }
            },
            "type": "scattermapbox"
           }
          ],
          "scatterpolar": [
           {
            "marker": {
             "colorbar": {
              "outlinewidth": 0,
              "ticks": ""
             }
            },
            "type": "scatterpolar"
           }
          ],
          "scatterpolargl": [
           {
            "marker": {
             "colorbar": {
              "outlinewidth": 0,
              "ticks": ""
             }
            },
            "type": "scatterpolargl"
           }
          ],
          "scatterternary": [
           {
            "marker": {
             "colorbar": {
              "outlinewidth": 0,
              "ticks": ""
             }
            },
            "type": "scatterternary"
           }
          ],
          "surface": [
           {
            "colorbar": {
             "outlinewidth": 0,
             "ticks": ""
            },
            "colorscale": [
             [
              0,
              "#0d0887"
             ],
             [
              0.1111111111111111,
              "#46039f"
             ],
             [
              0.2222222222222222,
              "#7201a8"
             ],
             [
              0.3333333333333333,
              "#9c179e"
             ],
             [
              0.4444444444444444,
              "#bd3786"
             ],
             [
              0.5555555555555556,
              "#d8576b"
             ],
             [
              0.6666666666666666,
              "#ed7953"
             ],
             [
              0.7777777777777778,
              "#fb9f3a"
             ],
             [
              0.8888888888888888,
              "#fdca26"
             ],
             [
              1,
              "#f0f921"
             ]
            ],
            "type": "surface"
           }
          ],
          "table": [
           {
            "cells": {
             "fill": {
              "color": "#EBF0F8"
             },
             "line": {
              "color": "white"
             }
            },
            "header": {
             "fill": {
              "color": "#C8D4E3"
             },
             "line": {
              "color": "white"
             }
            },
            "type": "table"
           }
          ]
         },
         "layout": {
          "annotationdefaults": {
           "arrowcolor": "#2a3f5f",
           "arrowhead": 0,
           "arrowwidth": 1
          },
          "autotypenumbers": "strict",
          "coloraxis": {
           "colorbar": {
            "outlinewidth": 0,
            "ticks": ""
           }
          },
          "colorscale": {
           "diverging": [
            [
             0,
             "#8e0152"
            ],
            [
             0.1,
             "#c51b7d"
            ],
            [
             0.2,
             "#de77ae"
            ],
            [
             0.3,
             "#f1b6da"
            ],
            [
             0.4,
             "#fde0ef"
            ],
            [
             0.5,
             "#f7f7f7"
            ],
            [
             0.6,
             "#e6f5d0"
            ],
            [
             0.7,
             "#b8e186"
            ],
            [
             0.8,
             "#7fbc41"
            ],
            [
             0.9,
             "#4d9221"
            ],
            [
             1,
             "#276419"
            ]
           ],
           "sequential": [
            [
             0,
             "#0d0887"
            ],
            [
             0.1111111111111111,
             "#46039f"
            ],
            [
             0.2222222222222222,
             "#7201a8"
            ],
            [
             0.3333333333333333,
             "#9c179e"
            ],
            [
             0.4444444444444444,
             "#bd3786"
            ],
            [
             0.5555555555555556,
             "#d8576b"
            ],
            [
             0.6666666666666666,
             "#ed7953"
            ],
            [
             0.7777777777777778,
             "#fb9f3a"
            ],
            [
             0.8888888888888888,
             "#fdca26"
            ],
            [
             1,
             "#f0f921"
            ]
           ],
           "sequentialminus": [
            [
             0,
             "#0d0887"
            ],
            [
             0.1111111111111111,
             "#46039f"
            ],
            [
             0.2222222222222222,
             "#7201a8"
            ],
            [
             0.3333333333333333,
             "#9c179e"
            ],
            [
             0.4444444444444444,
             "#bd3786"
            ],
            [
             0.5555555555555556,
             "#d8576b"
            ],
            [
             0.6666666666666666,
             "#ed7953"
            ],
            [
             0.7777777777777778,
             "#fb9f3a"
            ],
            [
             0.8888888888888888,
             "#fdca26"
            ],
            [
             1,
             "#f0f921"
            ]
           ]
          },
          "colorway": [
           "#636efa",
           "#EF553B",
           "#00cc96",
           "#ab63fa",
           "#FFA15A",
           "#19d3f3",
           "#FF6692",
           "#B6E880",
           "#FF97FF",
           "#FECB52"
          ],
          "font": {
           "color": "#2a3f5f"
          },
          "geo": {
           "bgcolor": "white",
           "lakecolor": "white",
           "landcolor": "#E5ECF6",
           "showlakes": true,
           "showland": true,
           "subunitcolor": "white"
          },
          "hoverlabel": {
           "align": "left"
          },
          "hovermode": "closest",
          "mapbox": {
           "style": "light"
          },
          "paper_bgcolor": "white",
          "plot_bgcolor": "#E5ECF6",
          "polar": {
           "angularaxis": {
            "gridcolor": "white",
            "linecolor": "white",
            "ticks": ""
           },
           "bgcolor": "#E5ECF6",
           "radialaxis": {
            "gridcolor": "white",
            "linecolor": "white",
            "ticks": ""
           }
          },
          "scene": {
           "xaxis": {
            "backgroundcolor": "#E5ECF6",
            "gridcolor": "white",
            "gridwidth": 2,
            "linecolor": "white",
            "showbackground": true,
            "ticks": "",
            "zerolinecolor": "white"
           },
           "yaxis": {
            "backgroundcolor": "#E5ECF6",
            "gridcolor": "white",
            "gridwidth": 2,
            "linecolor": "white",
            "showbackground": true,
            "ticks": "",
            "zerolinecolor": "white"
           },
           "zaxis": {
            "backgroundcolor": "#E5ECF6",
            "gridcolor": "white",
            "gridwidth": 2,
            "linecolor": "white",
            "showbackground": true,
            "ticks": "",
            "zerolinecolor": "white"
           }
          },
          "shapedefaults": {
           "line": {
            "color": "#2a3f5f"
           }
          },
          "ternary": {
           "aaxis": {
            "gridcolor": "white",
            "linecolor": "white",
            "ticks": ""
           },
           "baxis": {
            "gridcolor": "white",
            "linecolor": "white",
            "ticks": ""
           },
           "bgcolor": "#E5ECF6",
           "caxis": {
            "gridcolor": "white",
            "linecolor": "white",
            "ticks": ""
           }
          },
          "title": {
           "x": 0.05
          },
          "xaxis": {
           "automargin": true,
           "gridcolor": "white",
           "linecolor": "white",
           "ticks": "",
           "title": {
            "standoff": 15
           },
           "zerolinecolor": "white",
           "zerolinewidth": 2
          },
          "yaxis": {
           "automargin": true,
           "gridcolor": "white",
           "linecolor": "white",
           "ticks": "",
           "title": {
            "standoff": 15
           },
           "zerolinecolor": "white",
           "zerolinewidth": 2
          }
         }
        },
        "title": {
         "text": "Descuentos de - Item Code: 102900005117056"
        },
        "uniformtext": {
         "minsize": 8,
         "mode": "hide"
        }
       }
      }
     },
     "metadata": {},
     "output_type": "display_data"
    }
   ],
   "source": [
    "# Contar ventas y devoluciones\n",
    "sale_return_countss = df_most7_frequent_sales_day1['Discount (Yes/No)'].value_counts()\n",
    "disconYES = sale_return_countss.get(1, 0)  # Número de ventas\n",
    "disconNO = sale_return_countss.get(0, 0)  # Número de devoluciones\n",
    "\n",
    "# Obtener el código del ítem más frecuente (o \"N/A\" si está vacío)\n",
    "return_item_code_unico = df_most7_frequent_sales_day1['Item Code'].iloc[0] if not df_most7_frequent_sales_day1.empty else \"N/A\"\n",
    "\n",
    "# Crear gráfico de pastel\n",
    "fig = go.Figure(data=[go.Pie(\n",
    "    labels=['Descuentos -SI-', 'Descuentos -NO-'],\n",
    "    values=[disconYES, disconNO],\n",
    "    marker=dict(colors=['skyblue', 'gold']),\n",
    "    textinfo='label+percent+value',\n",
    "    insidetextorientation='radial'\n",
    ")])\n",
    "\n",
    "# Personalizar diseño\n",
    "fig.update_layout(\n",
    "    title=f'Descuentos de - Item Code: {return_item_code_unico}',\n",
    "    uniformtext_minsize=8,\n",
    "    uniformtext_mode='hide'\n",
    ")\n",
    "\n",
    "# Mostrar gráfico\n",
    "fig.show()"
   ]
  },
  {
   "cell_type": "markdown",
   "id": "65597b65",
   "metadata": {},
   "source": [
    "## venta total de producto por filtro de fecha"
   ]
  },
  {
   "cell_type": "code",
   "execution_count": 31,
   "id": "514fc4e9",
   "metadata": {},
   "outputs": [
    {
     "name": "stderr",
     "output_type": "stream",
     "text": [
      "C:\\Users\\josep\\AppData\\Local\\Temp\\ipykernel_17840\\774362145.py:2: SettingWithCopyWarning:\n",
      "\n",
      "\n",
      "A value is trying to be set on a copy of a slice from a DataFrame.\n",
      "Try using .loc[row_indexer,col_indexer] = value instead\n",
      "\n",
      "See the caveats in the documentation: https://pandas.pydata.org/pandas-docs/stable/user_guide/indexing.html#returning-a-view-versus-a-copy\n",
      "\n"
     ]
    },
    {
     "ename": "NameError",
     "evalue": "name 'px' is not defined",
     "output_type": "error",
     "traceback": [
      "\u001b[31m---------------------------------------------------------------------------\u001b[39m",
      "\u001b[31mNameError\u001b[39m                                 Traceback (most recent call last)",
      "\u001b[36mCell\u001b[39m\u001b[36m \u001b[39m\u001b[32mIn[31]\u001b[39m\u001b[32m, line 30\u001b[39m\n\u001b[32m     27\u001b[39m item_code_unico = ventas_por_producto[\u001b[33m'\u001b[39m\u001b[33mItem Code Agrupado\u001b[39m\u001b[33m'\u001b[39m].iloc[\u001b[32m0\u001b[39m] \u001b[38;5;28;01mif\u001b[39;00m \u001b[38;5;129;01mnot\u001b[39;00m ventas_por_producto.empty \u001b[38;5;28;01melse\u001b[39;00m \u001b[33m\"\u001b[39m\u001b[33mN/A\u001b[39m\u001b[33m\"\u001b[39m\n\u001b[32m     29\u001b[39m \u001b[38;5;66;03m# 📈 Crear gráfico de barras\u001b[39;00m\n\u001b[32m---> \u001b[39m\u001b[32m30\u001b[39m fig = \u001b[43mpx\u001b[49m.bar(\n\u001b[32m     31\u001b[39m     ventas_por_producto,\n\u001b[32m     32\u001b[39m     x=\u001b[33m'\u001b[39m\u001b[33mItem Code Agrupado\u001b[39m\u001b[33m'\u001b[39m,\n\u001b[32m     33\u001b[39m     y=\u001b[33m'\u001b[39m\u001b[33mTotal Sale\u001b[39m\u001b[33m'\u001b[39m,\n\u001b[32m     34\u001b[39m     title=\u001b[33mf\u001b[39m\u001b[33m'\u001b[39m\u001b[33mIngresos por Producto - \u001b[39m\u001b[38;5;132;01m{\u001b[39;00mselected_year\u001b[38;5;132;01m}\u001b[39;00m\u001b[33m/\u001b[39m\u001b[38;5;132;01m{\u001b[39;00mselected_month\u001b[38;5;132;01m}\u001b[39;00m\u001b[33m/\u001b[39m\u001b[38;5;132;01m{\u001b[39;00mselected_day\u001b[38;5;132;01m}\u001b[39;00m\u001b[33m | Producto: \u001b[39m\u001b[38;5;132;01m{\u001b[39;00mitem_code_unico\u001b[38;5;132;01m}\u001b[39;00m\u001b[33m'\u001b[39m,\n\u001b[32m     35\u001b[39m     labels={\u001b[33m'\u001b[39m\u001b[33mItem Code Agrupado\u001b[39m\u001b[33m'\u001b[39m: \u001b[33m'\u001b[39m\u001b[33mCódigo del Producto\u001b[39m\u001b[33m'\u001b[39m, \u001b[33m'\u001b[39m\u001b[33mTotal Sale\u001b[39m\u001b[33m'\u001b[39m: \u001b[33m'\u001b[39m\u001b[33mIngreso Total (RMB)\u001b[39m\u001b[33m'\u001b[39m},\n\u001b[32m     36\u001b[39m     color=\u001b[33m'\u001b[39m\u001b[33mTotal Sale\u001b[39m\u001b[33m'\u001b[39m,\n\u001b[32m     37\u001b[39m     color_continuous_scale=\u001b[33m'\u001b[39m\u001b[33mBlues\u001b[39m\u001b[33m'\u001b[39m\n\u001b[32m     38\u001b[39m )\n\u001b[32m     40\u001b[39m \u001b[38;5;66;03m# 👀 Mostrar gráfico\u001b[39;00m\n\u001b[32m     41\u001b[39m fig.show()\n",
      "\u001b[31mNameError\u001b[39m: name 'px' is not defined"
     ]
    }
   ],
   "source": [
    "# ✅ Crear columna Total dinámica\n",
    "df_most7_frequent_sales_day1['Total Sale'] = (\n",
    "    df_most7_frequent_sales_day1['Quantity Sold (kilo)'] * \n",
    "    df_most7_frequent_sales_day1['Unit Selling Price (RMB/kg)']\n",
    ")\n",
    "\n",
    "# 🔽 Establecer filtros (puedes hacer estos variables más adelante)\n",
    "selected_year = 2020\n",
    "selected_month = 7\n",
    "selected_day = 1\n",
    "\n",
    "# 🎯 Filtrar por Año, Mes y Día\n",
    "df_filtrado = df_most7_frequent_sales_day1[\n",
    "    (df_most7_frequent_sales_day1['Year Sale'] == selected_year) &\n",
    "    (df_most7_frequent_sales_day1['Month Sale'] == selected_month) &\n",
    "    (df_most7_frequent_sales_day1['Day Sale'] == selected_day)\n",
    "]\n",
    "\n",
    "# 🧹 Agrupar por los primeros 13 caracteres del Item Code\n",
    "df_filtrado['Item Code Agrupado'] = df_filtrado['Item Code'].astype(str).str[:13]\n",
    "\n",
    "# 📊 Agrupar por el nuevo campo y sumar ventas\n",
    "ventas_por_producto = df_filtrado.groupby('Item Code Agrupado')['Total Sale'].sum().reset_index()\n",
    "ventas_por_producto = ventas_por_producto.sort_values('Total Sale', ascending=False)\n",
    "\n",
    "# 🔍 Mostrar el primer código para título\n",
    "item_code_unico = ventas_por_producto['Item Code Agrupado'].iloc[0] if not ventas_por_producto.empty else \"N/A\"\n",
    "\n",
    "# 📈 Crear gráfico de barras\n",
    "fig = px.bar(\n",
    "    ventas_por_producto,\n",
    "    x='Item Code Agrupado',\n",
    "    y='Total Sale',\n",
    "    title=f'Ingresos por Producto - {selected_year}/{selected_month}/{selected_day} | Producto: {item_code_unico}',\n",
    "    labels={'Item Code Agrupado': 'Código del Producto', 'Total Sale': 'Ingreso Total (RMB)'},\n",
    "    color='Total Sale',\n",
    "    color_continuous_scale='Blues'\n",
    ")\n",
    "\n",
    "# 👀 Mostrar gráfico\n",
    "fig.show()"
   ]
  },
  {
   "cell_type": "code",
   "execution_count": null,
   "id": "7cb6444c",
   "metadata": {},
   "outputs": [
    {
     "data": {
      "text/html": [
       "<div>\n",
       "<style scoped>\n",
       "    .dataframe tbody tr th:only-of-type {\n",
       "        vertical-align: middle;\n",
       "    }\n",
       "\n",
       "    .dataframe tbody tr th {\n",
       "        vertical-align: top;\n",
       "    }\n",
       "\n",
       "    .dataframe thead th {\n",
       "        text-align: right;\n",
       "    }\n",
       "</style>\n",
       "<table border=\"1\" class=\"dataframe\">\n",
       "  <thead>\n",
       "    <tr style=\"text-align: right;\">\n",
       "      <th></th>\n",
       "      <th>Item Code</th>\n",
       "      <th>Quantity Sold (kilo)</th>\n",
       "      <th>Unit Selling Price (RMB/kg)</th>\n",
       "      <th>Sale or Return</th>\n",
       "      <th>Discount (Yes/No)</th>\n",
       "      <th>Year Sale</th>\n",
       "      <th>Month Sale</th>\n",
       "      <th>Day Sale</th>\n",
       "      <th>Time</th>\n",
       "      <th>Total Sale</th>\n",
       "    </tr>\n",
       "  </thead>\n",
       "  <tbody>\n",
       "    <tr>\n",
       "      <th>0</th>\n",
       "      <td>102900005117056</td>\n",
       "      <td>0.396</td>\n",
       "      <td>7.6</td>\n",
       "      <td>1</td>\n",
       "      <td>0</td>\n",
       "      <td>2020</td>\n",
       "      <td>7</td>\n",
       "      <td>1</td>\n",
       "      <td>09:15:07</td>\n",
       "      <td>3.0096</td>\n",
       "    </tr>\n",
       "    <tr>\n",
       "      <th>2</th>\n",
       "      <td>102900005117056</td>\n",
       "      <td>0.409</td>\n",
       "      <td>7.6</td>\n",
       "      <td>1</td>\n",
       "      <td>0</td>\n",
       "      <td>2020</td>\n",
       "      <td>7</td>\n",
       "      <td>1</td>\n",
       "      <td>09:17:33</td>\n",
       "      <td>3.1084</td>\n",
       "    </tr>\n",
       "    <tr>\n",
       "      <th>5</th>\n",
       "      <td>102900005117056</td>\n",
       "      <td>0.277</td>\n",
       "      <td>7.6</td>\n",
       "      <td>1</td>\n",
       "      <td>0</td>\n",
       "      <td>2020</td>\n",
       "      <td>7</td>\n",
       "      <td>1</td>\n",
       "      <td>09:21:55</td>\n",
       "      <td>2.1052</td>\n",
       "    </tr>\n",
       "    <tr>\n",
       "      <th>7</th>\n",
       "      <td>102900005117056</td>\n",
       "      <td>0.132</td>\n",
       "      <td>7.6</td>\n",
       "      <td>1</td>\n",
       "      <td>0</td>\n",
       "      <td>2020</td>\n",
       "      <td>7</td>\n",
       "      <td>1</td>\n",
       "      <td>09:22:01</td>\n",
       "      <td>1.0032</td>\n",
       "    </tr>\n",
       "    <tr>\n",
       "      <th>36</th>\n",
       "      <td>102900005117056</td>\n",
       "      <td>0.198</td>\n",
       "      <td>7.6</td>\n",
       "      <td>1</td>\n",
       "      <td>0</td>\n",
       "      <td>2020</td>\n",
       "      <td>7</td>\n",
       "      <td>1</td>\n",
       "      <td>09:41:09</td>\n",
       "      <td>1.5048</td>\n",
       "    </tr>\n",
       "  </tbody>\n",
       "</table>\n",
       "</div>"
      ],
      "text/plain": [
       "          Item Code  Quantity Sold (kilo)  Unit Selling Price (RMB/kg)  \\\n",
       "0   102900005117056                 0.396                          7.6   \n",
       "2   102900005117056                 0.409                          7.6   \n",
       "5   102900005117056                 0.277                          7.6   \n",
       "7   102900005117056                 0.132                          7.6   \n",
       "36  102900005117056                 0.198                          7.6   \n",
       "\n",
       "    Sale or Return  Discount (Yes/No)  Year Sale  Month Sale  Day Sale  \\\n",
       "0                1                  0       2020           7         1   \n",
       "2                1                  0       2020           7         1   \n",
       "5                1                  0       2020           7         1   \n",
       "7                1                  0       2020           7         1   \n",
       "36               1                  0       2020           7         1   \n",
       "\n",
       "        Time  Total Sale  \n",
       "0   09:15:07      3.0096  \n",
       "2   09:17:33      3.1084  \n",
       "5   09:21:55      2.1052  \n",
       "7   09:22:01      1.0032  \n",
       "36  09:41:09      1.5048  "
      ]
     },
     "execution_count": 94,
     "metadata": {},
     "output_type": "execute_result"
    }
   ],
   "source": [
    "df_most7_frequent_sales_day1.head(5)\n"
   ]
  },
  {
   "cell_type": "code",
   "execution_count": null,
   "id": "de82c42b",
   "metadata": {},
   "outputs": [],
   "source": []
  }
 ],
 "metadata": {
  "kernelspec": {
   "display_name": "graficasV",
   "language": "python",
   "name": "python3"
  },
  "language_info": {
   "codemirror_mode": {
    "name": "ipython",
    "version": 3
   },
   "file_extension": ".py",
   "mimetype": "text/x-python",
   "name": "python",
   "nbconvert_exporter": "python",
   "pygments_lexer": "ipython3",
   "version": "3.11.9"
  }
 },
 "nbformat": 4,
 "nbformat_minor": 5
}
